{
 "cells": [
  {
   "cell_type": "markdown",
   "id": "40f59d6c",
   "metadata": {},
   "source": [
    "# Label propagation baseline"
   ]
  },
  {
   "cell_type": "code",
   "execution_count": 1,
   "id": "2095524e",
   "metadata": {},
   "outputs": [],
   "source": [
    "import pandas as pd\n",
    "import numpy as np\n",
    "import matplotlib.pyplot as plt\n",
    "import seaborn as sns\n",
    "import torch\n",
    "import random\n",
    "import json\n",
    "import pickle\n",
    "import time"
   ]
  },
  {
   "cell_type": "code",
   "execution_count": 2,
   "id": "6ca18124",
   "metadata": {},
   "outputs": [],
   "source": [
    "import torch\n",
    "from torch_geometric.data import Data\n",
    "from torch import nn\n",
    "import sklearn\n",
    "from sklearn.metrics import f1_score"
   ]
  },
  {
   "cell_type": "code",
   "execution_count": 3,
   "id": "260ecc87",
   "metadata": {},
   "outputs": [],
   "source": [
    "# carpeta para guardar las predicciones\n",
    "results_path = \"./Predictions/\"\n",
    "\n",
    "# nombre de las predicciones\n",
    "nombre_predicciones = 'Label_Propagation.pkl'\n",
    "\n",
    "# carpeta donde se toman los datos\n",
    "carpeta_datos = \".\\\\Data\\\\GNN_data\\\\\""
   ]
  },
  {
   "cell_type": "markdown",
   "id": "4c9675d2",
   "metadata": {},
   "source": [
    "## Cargar datos"
   ]
  },
  {
   "cell_type": "code",
   "execution_count": 4,
   "id": "203a3e58",
   "metadata": {},
   "outputs": [
    {
     "name": "stdout",
     "output_type": "stream",
     "text": [
      "Se tienen 267774 nodos\n"
     ]
    }
   ],
   "source": [
    "# cargar los diccionarios de codificacion de id\n",
    "with open(carpeta_datos + 'encode_mathid_2_nodeid.pkl', 'rb') as f:\n",
    "    encode_mathid_2_nodeid = pickle.load(f)\n",
    "    \n",
    "with open(carpeta_datos + 'decode_nodeid_2_mathid.pkl', 'rb') as f:\n",
    "    decode_nodeid_2_mathid = pickle.load(f)\n",
    "    \n",
    "print(f\"Se tienen {len(encode_mathid_2_nodeid)} nodos\")"
   ]
  },
  {
   "cell_type": "code",
   "execution_count": 5,
   "id": "f11c57c0",
   "metadata": {},
   "outputs": [
    {
     "name": "stdout",
     "output_type": "stream",
     "text": [
      "Se tienen 63 subjects (sin el unknown)\n"
     ]
    }
   ],
   "source": [
    "# cargar los diccionarios de codificacion de subject\n",
    "with open(carpeta_datos + 'encode_subj_2_idx.pkl', 'rb') as f:\n",
    "    encode_subj_2_idx = pickle.load(f)\n",
    "    \n",
    "with open(carpeta_datos + 'decode_idx_2_subj.pkl', 'rb') as f:\n",
    "    decode_idx_2_subj = pickle.load(f)\n",
    "    \n",
    "# contar los subjects sin el unknown\n",
    "numero_subjects = len(encode_subj_2_idx) - 1 # -1 por el unknown\n",
    "    \n",
    "print(f\"Se tienen {numero_subjects} subjects (sin el unknown)\")"
   ]
  },
  {
   "cell_type": "code",
   "execution_count": 6,
   "id": "2c252576",
   "metadata": {},
   "outputs": [],
   "source": [
    "# cargar edge index, y\n",
    "edge_index = torch.load(carpeta_datos + 'edge_index.pt')\n",
    "y =  torch.load(carpeta_datos + 'y.pt')"
   ]
  },
  {
   "cell_type": "code",
   "execution_count": 7,
   "id": "113614da",
   "metadata": {},
   "outputs": [],
   "source": [
    "# cargar masks\n",
    "train_mask = torch.load(carpeta_datos + 'train_mask.pt')\n",
    "val_mask = torch.load(carpeta_datos + 'val_mask.pt')\n",
    "test_mask = torch.load(carpeta_datos + 'test_mask.pt')\n",
    "useless_mask = torch.load(carpeta_datos + 'useless_mask.pt')"
   ]
  },
  {
   "cell_type": "code",
   "execution_count": 8,
   "id": "65827d31",
   "metadata": {},
   "outputs": [
    {
     "data": {
      "text/plain": [
       "Data(edge_index=[2, 562545], y=[267774], num_nodes=267774, train_mask=[267774], val_mask=[267774], test_mask=[267774], useless_mask=[267774])"
      ]
     },
     "execution_count": 8,
     "metadata": {},
     "output_type": "execute_result"
    }
   ],
   "source": [
    "# crear el objeto data\n",
    "data = Data(y = y, edge_index = edge_index)\n",
    "\n",
    "# poner el numero de nodos\n",
    "data.num_nodes = y.shape[0]\n",
    "\n",
    "# agregar los masks\n",
    "data.train_mask = train_mask\n",
    "data.val_mask = val_mask\n",
    "data.test_mask = test_mask\n",
    "data.useless_mask = useless_mask\n",
    "\n",
    "# ver que este bien\n",
    "data.validate(raise_on_error=True)\n",
    "\n",
    "from torch_geometric.utils import to_undirected\n",
    "\n",
    "# convertir el grafo a no dirigido\n",
    "data.edge_index = to_undirected(data.edge_index)\n",
    "\n",
    "data"
   ]
  },
  {
   "cell_type": "code",
   "execution_count": 9,
   "id": "3cf182f2",
   "metadata": {},
   "outputs": [
    {
     "name": "stdout",
     "output_type": "stream",
     "text": [
      "Number of nodes: 267774\n",
      "Number of edges: 562545\n",
      "Average node degree: 2.10\n",
      "Number of training nodes: 141345\n",
      "Training node label rate: 0.53\n",
      "Has isolated nodes: True\n",
      "Has self-loops: False\n",
      "Is undirected: False\n"
     ]
    }
   ],
   "source": [
    "print(f'Number of nodes: {data.num_nodes}')\n",
    "print(f'Number of edges: {data.num_edges}')\n",
    "print(f'Average node degree: {data.num_edges / data.num_nodes:.2f}')\n",
    "print(f'Number of training nodes: {data.train_mask.sum()}')\n",
    "print(f'Training node label rate: {int(data.train_mask.sum()) / data.num_nodes:.2f}')\n",
    "print(f'Has isolated nodes: {data.has_isolated_nodes()}')\n",
    "print(f'Has self-loops: {data.has_self_loops()}')\n",
    "print(f'Is undirected: {data.is_undirected()}')"
   ]
  },
  {
   "cell_type": "markdown",
   "id": "2cc27db9",
   "metadata": {},
   "source": [
    "## Funciones para evaluar"
   ]
  },
  {
   "cell_type": "code",
   "execution_count": 10,
   "id": "96ffdedd",
   "metadata": {},
   "outputs": [],
   "source": [
    "def compute_metrics(y_true, y_pred):\n",
    "    '''\n",
    "    Funcion que calcula estadisticas de unas predicciones\n",
    "    '''\n",
    "\n",
    "    # calcula f1 macro weighted y micro\n",
    "    f1_macro = f1_score(y_true, y_pred, average='macro')\n",
    "    f1_weighted = f1_score(y_true, y_pred, average='weighted')\n",
    "    f1_micro = f1_score(y_true, y_pred, average='micro')\n",
    "\n",
    "    # poner las estadisticas en un diccionario\n",
    "    dict_results = {\n",
    "        'f1_macro': f1_macro,\n",
    "        'f1_weighted': f1_weighted,\n",
    "        'f1_micro': f1_micro,\n",
    "    }\n",
    "\n",
    "    return dict_results"
   ]
  },
  {
   "cell_type": "code",
   "execution_count": 11,
   "id": "605e964a",
   "metadata": {},
   "outputs": [],
   "source": [
    "def predecir_evaluar(model, mask):\n",
    "    '''\n",
    "    Dado un mask (puede ser train o val)\n",
    "    Hace las predicciones, calcula estadisticas de estas\n",
    "    '''\n",
    "    \n",
    "    # tomar el output del modelo\n",
    "    out = model(y = data.y.to(torch.int64), edge_index = data.edge_index.to(torch.int64),\n",
    "                mask = data.train_mask)  # denotando que solo se usa train para label propagation\n",
    "\n",
    "    # tomar las predicciones, solo del mask correspondiente\n",
    "    pred = out[mask].argmax(dim=-1, keepdim=False)\n",
    "\n",
    "    # tomar las etiquetas reales para esos datos\n",
    "    true = data.y[mask]\n",
    "\n",
    "    # calcular estadisticas\n",
    "    estadisticas = compute_metrics(true, pred)\n",
    "\n",
    "    # devolver las estadisticas\n",
    "    return estadisticas"
   ]
  },
  {
   "cell_type": "code",
   "execution_count": 12,
   "id": "9f8610c8",
   "metadata": {},
   "outputs": [],
   "source": [
    "def predicciones_full_data(model):\n",
    "    '''\n",
    "    Hace predicciones para todos los datos\n",
    "    Se guardan en la ruta correespondiente, como un diccionario\n",
    "    '''\n",
    "    \n",
    "    # tomar el output del modelo\n",
    "    out = model(y = data.y.to(torch.int64), edge_index = data.edge_index.to(torch.int64),\n",
    "                mask = data.train_mask) # denotando que solo se usa train para label propagation\n",
    "    \n",
    "    # tomar las predicciones, solo del mask correspondiente\n",
    "    pred = out.argmax(dim=-1, keepdim=False)\n",
    "\n",
    "    # poner las predicciones en formato de diccionario\n",
    "    # math_id: prediccion\n",
    "    predicciones_finales = dict()\n",
    "\n",
    "    # recordar que se tiene un diccionario que nos da el math_id de cada indice\n",
    "    # tambien se tiene un diccionario que da el subject de cada indice\n",
    "\n",
    "    # iterar en las predicciones\n",
    "    for idx_node, prediction in enumerate(pred.numpy()):\n",
    "\n",
    "        # tomar el nodo del matematico\n",
    "        math_id = decode_nodeid_2_mathid[idx_node]\n",
    "\n",
    "        # tomar el subject\n",
    "        subject = decode_idx_2_subj[prediction]\n",
    "\n",
    "        # agregar la entrada\n",
    "        predicciones_finales[math_id] =  subject\n",
    "    # end for\n",
    "    \n",
    "    # guardar estas predicciones\n",
    "    with open(results_path + nombre_predicciones, 'wb') as f:\n",
    "        pickle.dump(predicciones_finales, f)"
   ]
  },
  {
   "cell_type": "markdown",
   "id": "96b73bf5",
   "metadata": {},
   "source": [
    "## Crear y correr el label progagation"
   ]
  },
  {
   "cell_type": "code",
   "execution_count": 13,
   "id": "cc075feb",
   "metadata": {},
   "outputs": [
    {
     "data": {
      "text/plain": [
       "LabelPropagation(num_layers=3, alpha=0.9)"
      ]
     },
     "execution_count": 13,
     "metadata": {},
     "output_type": "execute_result"
    }
   ],
   "source": [
    "from torch_geometric.nn import LabelPropagation\n",
    "\n",
    "# crear el modelo, parametros del ejemplo\n",
    "model = LabelPropagation(num_layers=3, alpha=0.9)\n",
    "\n",
    "model"
   ]
  },
  {
   "cell_type": "code",
   "execution_count": 14,
   "id": "ed456bc5",
   "metadata": {},
   "outputs": [
    {
     "name": "stdout",
     "output_type": "stream",
     "text": [
      "Train data:\n"
     ]
    },
    {
     "data": {
      "text/plain": [
       "{'f1_macro': 0.7853464566501729,\n",
       " 'f1_weighted': 0.8591510795760021,\n",
       " 'f1_micro': 0.8594502812267856}"
      ]
     },
     "execution_count": 14,
     "metadata": {},
     "output_type": "execute_result"
    }
   ],
   "source": [
    "# ver desempeño del modelo entrenado en datos de train\n",
    "print(\"Train data:\")\n",
    "train_metrics = predecir_evaluar(model, data.train_mask)\n",
    "train_metrics"
   ]
  },
  {
   "cell_type": "code",
   "execution_count": 15,
   "id": "6f0b5029",
   "metadata": {},
   "outputs": [
    {
     "name": "stdout",
     "output_type": "stream",
     "text": [
      "Val data:\n"
     ]
    },
    {
     "data": {
      "text/plain": [
       "{'f1_macro': 0.48012809830788317,\n",
       " 'f1_weighted': 0.6768460268381415,\n",
       " 'f1_micro': 0.6569245463228272}"
      ]
     },
     "execution_count": 15,
     "metadata": {},
     "output_type": "execute_result"
    }
   ],
   "source": [
    "# ver desempeño del modelo entrenado en datos de val\n",
    "print(\"Val data:\")\n",
    "val_metrics = predecir_evaluar(model, data.val_mask)\n",
    "val_metrics"
   ]
  },
  {
   "cell_type": "code",
   "execution_count": 16,
   "id": "01b159f2",
   "metadata": {},
   "outputs": [],
   "source": [
    "# hacer y guardar las predicciones en todos los datos\n",
    "predicciones_full_data(model)"
   ]
  }
 ],
 "metadata": {
  "kernelspec": {
   "display_name": "mgp",
   "language": "python",
   "name": "mgp"
  },
  "language_info": {
   "codemirror_mode": {
    "name": "ipython",
    "version": 3
   },
   "file_extension": ".py",
   "mimetype": "text/x-python",
   "name": "python",
   "nbconvert_exporter": "python",
   "pygments_lexer": "ipython3",
   "version": "3.11.8"
  }
 },
 "nbformat": 4,
 "nbformat_minor": 5
}
