{
 "cells": [
  {
   "cell_type": "markdown",
   "metadata": {
    "id": "OdLfebYhpcx8"
   },
   "source": [
    "# Fine-tuning of a BERT model para hacer sentence classification\n",
    "\n",
    "\n",
    "Clasificar las thesis en subjects\n"
   ]
  },
  {
   "cell_type": "code",
   "execution_count": 34,
   "metadata": {
    "id": "FN87W3V3oxaW"
   },
   "outputs": [],
   "source": [
    "!pip install datasets --quiet\n",
    "!pip install accelerate -U --quiet"
   ]
  },
  {
   "cell_type": "code",
   "execution_count": 1,
   "metadata": {
    "id": "6nWpsQn5rjFW"
   },
   "outputs": [],
   "source": [
    "import datasets\n",
    "import transformers"
   ]
  },
  {
   "cell_type": "code",
   "execution_count": 2,
   "metadata": {
    "id": "iSuv8udLpv4z"
   },
   "outputs": [],
   "source": [
    "import pandas as pd\n",
    "import numpy as np\n",
    "import matplotlib.pyplot as plt\n",
    "import seaborn as sns\n",
    "import torch\n",
    "import random\n",
    "import json\n",
    "import pickle"
   ]
  },
  {
   "cell_type": "code",
   "execution_count": 3,
   "metadata": {
    "id": "bHEdEuBRuKx7"
   },
   "outputs": [],
   "source": [
    "# Set the seed for reproducibility\n",
    "seed = 42\n",
    "random.seed(seed)\n",
    "np.random.seed(seed)\n",
    "torch.manual_seed(seed)\n",
    "torch.cuda.manual_seed_all(seed)\n",
    "transformers.set_seed(seed)"
   ]
  },
  {
   "cell_type": "code",
   "execution_count": 4,
   "metadata": {
    "colab": {
     "base_uri": "https://localhost:8080/"
    },
    "id": "IdevbFSMU_CE",
    "outputId": "16af08f8-245f-4c0c-b878-598d56c149bf"
   },
   "outputs": [
    {
     "data": {
      "text/plain": [
       "device(type='cpu')"
      ]
     },
     "execution_count": 4,
     "metadata": {},
     "output_type": "execute_result"
    }
   ],
   "source": [
    "# Check if GPU is available and set device accordingly\n",
    "device = torch.device('cuda' if torch.cuda.is_available() else 'cpu')\n",
    "device"
   ]
  },
  {
   "cell_type": "code",
   "execution_count": 5,
   "metadata": {
    "id": "093PsuA3oe2d"
   },
   "outputs": [],
   "source": [
    "# carpeta para guardar las predicciones\n",
    "results_path = \"./Predictions/\"\n",
    "\n",
    "# carpeta donde se toman los datos\n",
    "carpeta_datos = \".\\\\Data\\\\Text_classification_data\\\\\"\n",
    "carpeta_datos = \".\\\\\"\n",
    "\n",
    "# nombre archivos de datos\n",
    "nombre_train = \"train_df.csv\"\n",
    "nombre_val = \"val_df.csv\""
   ]
  },
  {
   "cell_type": "code",
   "execution_count": 40,
   "metadata": {
    "id": "SYyLZUJatixP"
   },
   "outputs": [],
   "source": [
    "# nombre de carpeta donde se guarda toda la info del entrenamiento\n",
    "model_output_dir = \"./Models/BERT_fine_tuning_info/\"\n",
    "\n",
    "# path para guardar el modelo\n",
    "model_path = \"./Models/BERT/\""
   ]
  },
  {
   "cell_type": "markdown",
   "metadata": {
    "id": "Xn0nYGwFoe2d"
   },
   "source": [
    "Opciones de modelos bert\n",
    "\n",
    "https://huggingface.co/google-bert/bert-base-multilingual-cased\n",
    "    \n",
    "    \n",
    "https://huggingface.co/google-bert/bert-base-uncased\n",
    "\n",
    "Considerar tambien usar distilbert:\n",
    "\n",
    "https://huggingface.co/distilbert/distilbert-base-multilingual-cased"
   ]
  },
  {
   "cell_type": "code",
   "execution_count": 41,
   "metadata": {
    "id": "7BXKg3rpztmO"
   },
   "outputs": [],
   "source": [
    "# delimitar el nombre del modelo a usar\n",
    "nombre_modelo_bert = \"google-bert/bert-base-multilingual-uncased\"\n",
    "#nombre_modelo_bert = \"bert-base-uncased\""
   ]
  },
  {
   "cell_type": "markdown",
   "metadata": {
    "id": "lTcqyrA9oe2e"
   },
   "source": [
    "## Hyper parametros"
   ]
  },
  {
   "cell_type": "code",
   "execution_count": 42,
   "metadata": {
    "id": "m9y9NGtnoe2e"
   },
   "outputs": [],
   "source": [
    "# archivo donde se ponen los hyperparameters\n",
    "hyperparameters_file = \"./Hyperparameters/Bert.csv\""
   ]
  },
  {
   "cell_type": "code",
   "execution_count": 67,
   "metadata": {
    "id": "tiodotVroe2e"
   },
   "outputs": [],
   "source": [
    "LEARNING_RATE = 5e-5            # 5e-5, 3e-5, 2e-5\n",
    "WEIGHT_DECAY = 0.01             # 0.01, 0.1\n",
    "ADAM_EPSILON = 1e-8             # 1e-8\n",
    "CLASS_WEIGHTS = None      # \"balanced\" para tener pesos en las clases, None para tener pesos uniformes\n",
    "NUM_EPOCHS = 5"
   ]
  },
  {
   "cell_type": "markdown",
   "metadata": {
    "id": "wpd6d3mzqOJw"
   },
   "source": [
    "# Cargar datos y procesar"
   ]
  },
  {
   "cell_type": "code",
   "execution_count": 68,
   "metadata": {
    "colab": {
     "base_uri": "https://localhost:8080/"
    },
    "id": "uwPpfcIGqUNJ",
    "outputId": "1ee01cfb-650d-48aa-93e5-8c484f2da0d0"
   },
   "outputs": [
    {
     "name": "stdout",
     "output_type": "stream",
     "text": [
      "Datos de train: 141345\n",
      "Datos de val: 15705\n"
     ]
    }
   ],
   "source": [
    "# cargar dfs\n",
    "df_train = pd.read_csv( nombre_train, encoding='utf-8-sig', index_col=0)\n",
    "df_val = pd.read_csv( nombre_val, encoding='utf-8-sig', index_col=0)\n",
    "#df_test = pd.read_csv(carpeta_datos + nombre_test, encoding='utf-8-sig', index_col=0)\n",
    "\n",
    "# ver numero de datos\n",
    "print(f\"Datos de train: {df_train.shape[0]}\")\n",
    "print(f\"Datos de val: {df_val.shape[0]}\")\n",
    "#print(f\"Datos de test: {df_test.shape[0]}\")"
   ]
  },
  {
   "cell_type": "code",
   "execution_count": 69,
   "metadata": {
    "colab": {
     "base_uri": "https://localhost:8080/",
     "height": 206
    },
    "id": "657_Uvtuoe2e",
    "outputId": "658012fd-b31a-4902-f84c-1b5765079e65"
   },
   "outputs": [
    {
     "data": {
      "application/vnd.google.colaboratory.intrinsic+json": {
       "type": "dataframe",
       "variable_name": "df_train"
      },
      "text/html": [
       "\n",
       "  <div id=\"df-64234921-cbeb-4ca3-8ebd-d5a23f6e77d1\" class=\"colab-df-container\">\n",
       "    <div>\n",
       "<style scoped>\n",
       "    .dataframe tbody tr th:only-of-type {\n",
       "        vertical-align: middle;\n",
       "    }\n",
       "\n",
       "    .dataframe tbody tr th {\n",
       "        vertical-align: top;\n",
       "    }\n",
       "\n",
       "    .dataframe thead th {\n",
       "        text-align: right;\n",
       "    }\n",
       "</style>\n",
       "<table border=\"1\" class=\"dataframe\">\n",
       "  <thead>\n",
       "    <tr style=\"text-align: right;\">\n",
       "      <th></th>\n",
       "      <th>thesis</th>\n",
       "      <th>subject</th>\n",
       "    </tr>\n",
       "  </thead>\n",
       "  <tbody>\n",
       "    <tr>\n",
       "      <th>287537</th>\n",
       "      <td>Analyzing undergraduate admissions criteria (t...</td>\n",
       "      <td>91—Game theory, economics, social and behavior...</td>\n",
       "    </tr>\n",
       "    <tr>\n",
       "      <th>123686</th>\n",
       "      <td>Aproximações markovianas e reamostragem para c...</td>\n",
       "      <td>62—Statistics</td>\n",
       "    </tr>\n",
       "    <tr>\n",
       "      <th>288977</th>\n",
       "      <td>Imperfect information in spatial elections: An...</td>\n",
       "      <td>91—Game theory, economics, social and behavior...</td>\n",
       "    </tr>\n",
       "    <tr>\n",
       "      <th>153883</th>\n",
       "      <td>A Refined Gross-Prasad Conjecture for Unitary ...</td>\n",
       "      <td>11—Number theory</td>\n",
       "    </tr>\n",
       "    <tr>\n",
       "      <th>297075</th>\n",
       "      <td>Real-time Detection and Suppression of Malicio...</td>\n",
       "      <td>68—Computer science</td>\n",
       "    </tr>\n",
       "  </tbody>\n",
       "</table>\n",
       "</div>\n",
       "    <div class=\"colab-df-buttons\">\n",
       "\n",
       "  <div class=\"colab-df-container\">\n",
       "    <button class=\"colab-df-convert\" onclick=\"convertToInteractive('df-64234921-cbeb-4ca3-8ebd-d5a23f6e77d1')\"\n",
       "            title=\"Convert this dataframe to an interactive table.\"\n",
       "            style=\"display:none;\">\n",
       "\n",
       "  <svg xmlns=\"http://www.w3.org/2000/svg\" height=\"24px\" viewBox=\"0 -960 960 960\">\n",
       "    <path d=\"M120-120v-720h720v720H120Zm60-500h600v-160H180v160Zm220 220h160v-160H400v160Zm0 220h160v-160H400v160ZM180-400h160v-160H180v160Zm440 0h160v-160H620v160ZM180-180h160v-160H180v160Zm440 0h160v-160H620v160Z\"/>\n",
       "  </svg>\n",
       "    </button>\n",
       "\n",
       "  <style>\n",
       "    .colab-df-container {\n",
       "      display:flex;\n",
       "      gap: 12px;\n",
       "    }\n",
       "\n",
       "    .colab-df-convert {\n",
       "      background-color: #E8F0FE;\n",
       "      border: none;\n",
       "      border-radius: 50%;\n",
       "      cursor: pointer;\n",
       "      display: none;\n",
       "      fill: #1967D2;\n",
       "      height: 32px;\n",
       "      padding: 0 0 0 0;\n",
       "      width: 32px;\n",
       "    }\n",
       "\n",
       "    .colab-df-convert:hover {\n",
       "      background-color: #E2EBFA;\n",
       "      box-shadow: 0px 1px 2px rgba(60, 64, 67, 0.3), 0px 1px 3px 1px rgba(60, 64, 67, 0.15);\n",
       "      fill: #174EA6;\n",
       "    }\n",
       "\n",
       "    .colab-df-buttons div {\n",
       "      margin-bottom: 4px;\n",
       "    }\n",
       "\n",
       "    [theme=dark] .colab-df-convert {\n",
       "      background-color: #3B4455;\n",
       "      fill: #D2E3FC;\n",
       "    }\n",
       "\n",
       "    [theme=dark] .colab-df-convert:hover {\n",
       "      background-color: #434B5C;\n",
       "      box-shadow: 0px 1px 3px 1px rgba(0, 0, 0, 0.15);\n",
       "      filter: drop-shadow(0px 1px 2px rgba(0, 0, 0, 0.3));\n",
       "      fill: #FFFFFF;\n",
       "    }\n",
       "  </style>\n",
       "\n",
       "    <script>\n",
       "      const buttonEl =\n",
       "        document.querySelector('#df-64234921-cbeb-4ca3-8ebd-d5a23f6e77d1 button.colab-df-convert');\n",
       "      buttonEl.style.display =\n",
       "        google.colab.kernel.accessAllowed ? 'block' : 'none';\n",
       "\n",
       "      async function convertToInteractive(key) {\n",
       "        const element = document.querySelector('#df-64234921-cbeb-4ca3-8ebd-d5a23f6e77d1');\n",
       "        const dataTable =\n",
       "          await google.colab.kernel.invokeFunction('convertToInteractive',\n",
       "                                                    [key], {});\n",
       "        if (!dataTable) return;\n",
       "\n",
       "        const docLinkHtml = 'Like what you see? Visit the ' +\n",
       "          '<a target=\"_blank\" href=https://colab.research.google.com/notebooks/data_table.ipynb>data table notebook</a>'\n",
       "          + ' to learn more about interactive tables.';\n",
       "        element.innerHTML = '';\n",
       "        dataTable['output_type'] = 'display_data';\n",
       "        await google.colab.output.renderOutput(dataTable, element);\n",
       "        const docLink = document.createElement('div');\n",
       "        docLink.innerHTML = docLinkHtml;\n",
       "        element.appendChild(docLink);\n",
       "      }\n",
       "    </script>\n",
       "  </div>\n",
       "\n",
       "\n",
       "<div id=\"df-6f63f2c4-4e37-489f-add9-e105e013b5f6\">\n",
       "  <button class=\"colab-df-quickchart\" onclick=\"quickchart('df-6f63f2c4-4e37-489f-add9-e105e013b5f6')\"\n",
       "            title=\"Suggest charts\"\n",
       "            style=\"display:none;\">\n",
       "\n",
       "<svg xmlns=\"http://www.w3.org/2000/svg\" height=\"24px\"viewBox=\"0 0 24 24\"\n",
       "     width=\"24px\">\n",
       "    <g>\n",
       "        <path d=\"M19 3H5c-1.1 0-2 .9-2 2v14c0 1.1.9 2 2 2h14c1.1 0 2-.9 2-2V5c0-1.1-.9-2-2-2zM9 17H7v-7h2v7zm4 0h-2V7h2v10zm4 0h-2v-4h2v4z\"/>\n",
       "    </g>\n",
       "</svg>\n",
       "  </button>\n",
       "\n",
       "<style>\n",
       "  .colab-df-quickchart {\n",
       "      --bg-color: #E8F0FE;\n",
       "      --fill-color: #1967D2;\n",
       "      --hover-bg-color: #E2EBFA;\n",
       "      --hover-fill-color: #174EA6;\n",
       "      --disabled-fill-color: #AAA;\n",
       "      --disabled-bg-color: #DDD;\n",
       "  }\n",
       "\n",
       "  [theme=dark] .colab-df-quickchart {\n",
       "      --bg-color: #3B4455;\n",
       "      --fill-color: #D2E3FC;\n",
       "      --hover-bg-color: #434B5C;\n",
       "      --hover-fill-color: #FFFFFF;\n",
       "      --disabled-bg-color: #3B4455;\n",
       "      --disabled-fill-color: #666;\n",
       "  }\n",
       "\n",
       "  .colab-df-quickchart {\n",
       "    background-color: var(--bg-color);\n",
       "    border: none;\n",
       "    border-radius: 50%;\n",
       "    cursor: pointer;\n",
       "    display: none;\n",
       "    fill: var(--fill-color);\n",
       "    height: 32px;\n",
       "    padding: 0;\n",
       "    width: 32px;\n",
       "  }\n",
       "\n",
       "  .colab-df-quickchart:hover {\n",
       "    background-color: var(--hover-bg-color);\n",
       "    box-shadow: 0 1px 2px rgba(60, 64, 67, 0.3), 0 1px 3px 1px rgba(60, 64, 67, 0.15);\n",
       "    fill: var(--button-hover-fill-color);\n",
       "  }\n",
       "\n",
       "  .colab-df-quickchart-complete:disabled,\n",
       "  .colab-df-quickchart-complete:disabled:hover {\n",
       "    background-color: var(--disabled-bg-color);\n",
       "    fill: var(--disabled-fill-color);\n",
       "    box-shadow: none;\n",
       "  }\n",
       "\n",
       "  .colab-df-spinner {\n",
       "    border: 2px solid var(--fill-color);\n",
       "    border-color: transparent;\n",
       "    border-bottom-color: var(--fill-color);\n",
       "    animation:\n",
       "      spin 1s steps(1) infinite;\n",
       "  }\n",
       "\n",
       "  @keyframes spin {\n",
       "    0% {\n",
       "      border-color: transparent;\n",
       "      border-bottom-color: var(--fill-color);\n",
       "      border-left-color: var(--fill-color);\n",
       "    }\n",
       "    20% {\n",
       "      border-color: transparent;\n",
       "      border-left-color: var(--fill-color);\n",
       "      border-top-color: var(--fill-color);\n",
       "    }\n",
       "    30% {\n",
       "      border-color: transparent;\n",
       "      border-left-color: var(--fill-color);\n",
       "      border-top-color: var(--fill-color);\n",
       "      border-right-color: var(--fill-color);\n",
       "    }\n",
       "    40% {\n",
       "      border-color: transparent;\n",
       "      border-right-color: var(--fill-color);\n",
       "      border-top-color: var(--fill-color);\n",
       "    }\n",
       "    60% {\n",
       "      border-color: transparent;\n",
       "      border-right-color: var(--fill-color);\n",
       "    }\n",
       "    80% {\n",
       "      border-color: transparent;\n",
       "      border-right-color: var(--fill-color);\n",
       "      border-bottom-color: var(--fill-color);\n",
       "    }\n",
       "    90% {\n",
       "      border-color: transparent;\n",
       "      border-bottom-color: var(--fill-color);\n",
       "    }\n",
       "  }\n",
       "</style>\n",
       "\n",
       "  <script>\n",
       "    async function quickchart(key) {\n",
       "      const quickchartButtonEl =\n",
       "        document.querySelector('#' + key + ' button');\n",
       "      quickchartButtonEl.disabled = true;  // To prevent multiple clicks.\n",
       "      quickchartButtonEl.classList.add('colab-df-spinner');\n",
       "      try {\n",
       "        const charts = await google.colab.kernel.invokeFunction(\n",
       "            'suggestCharts', [key], {});\n",
       "      } catch (error) {\n",
       "        console.error('Error during call to suggestCharts:', error);\n",
       "      }\n",
       "      quickchartButtonEl.classList.remove('colab-df-spinner');\n",
       "      quickchartButtonEl.classList.add('colab-df-quickchart-complete');\n",
       "    }\n",
       "    (() => {\n",
       "      let quickchartButtonEl =\n",
       "        document.querySelector('#df-6f63f2c4-4e37-489f-add9-e105e013b5f6 button');\n",
       "      quickchartButtonEl.style.display =\n",
       "        google.colab.kernel.accessAllowed ? 'block' : 'none';\n",
       "    })();\n",
       "  </script>\n",
       "</div>\n",
       "\n",
       "    </div>\n",
       "  </div>\n"
      ],
      "text/plain": [
       "                                                   thesis  \\\n",
       "287537  Analyzing undergraduate admissions criteria (t...   \n",
       "123686  Aproximações markovianas e reamostragem para c...   \n",
       "288977  Imperfect information in spatial elections: An...   \n",
       "153883  A Refined Gross-Prasad Conjecture for Unitary ...   \n",
       "297075  Real-time Detection and Suppression of Malicio...   \n",
       "\n",
       "                                                  subject  \n",
       "287537  91—Game theory, economics, social and behavior...  \n",
       "123686                                      62—Statistics  \n",
       "288977  91—Game theory, economics, social and behavior...  \n",
       "153883                                   11—Number theory  \n",
       "297075                                68—Computer science  "
      ]
     },
     "execution_count": 69,
     "metadata": {},
     "output_type": "execute_result"
    }
   ],
   "source": [
    "df_train.head()"
   ]
  },
  {
   "cell_type": "code",
   "execution_count": 70,
   "metadata": {
    "colab": {
     "base_uri": "https://localhost:8080/"
    },
    "id": "AsXC4zrSoe2f",
    "outputId": "34d37dea-dd7f-483c-d57f-807dd5612a66"
   },
   "outputs": [
    {
     "name": "stdout",
     "output_type": "stream",
     "text": [
      "Se tienen 63 subjects diferentes\n"
     ]
    }
   ],
   "source": [
    "# tomar todas las etiquietas\n",
    "subjects_datos = df_train['subject'].values\n",
    "\n",
    "# tomar todas las etiquetas unicas en df de entrenamiento\n",
    "subjects_unicos = sorted(list(df_train['subject'].unique()))\n",
    "\n",
    "# ver cuantos son\n",
    "num_clases = len(subjects_unicos)\n",
    "\n",
    "print(f\"Se tienen {num_clases} subjects diferentes\")"
   ]
  },
  {
   "cell_type": "code",
   "execution_count": 71,
   "metadata": {
    "id": "tzScD_K3oe2f"
   },
   "outputs": [],
   "source": [
    "# hacer el mapeo de indice a subject y viceversa\n",
    "\n",
    "encode_subj_2_idx = {subj:idx for idx, subj in enumerate(subjects_unicos)}\n",
    "decode_idx_2_subj = {idx:subj for idx, subj in enumerate(subjects_unicos)}"
   ]
  },
  {
   "cell_type": "code",
   "execution_count": 72,
   "metadata": {
    "id": "e6ATBDwHoe2f"
   },
   "outputs": [],
   "source": [
    "# mapear los subjects con sus respectivos indices\n",
    "\n",
    "df_train['indice_subject'] = df_train['subject'].map(lambda x: encode_subj_2_idx[x])\n",
    "df_val['indice_subject'] = df_val['subject'].map(lambda x: encode_subj_2_idx[x])\n",
    "#df_test['indice_subject'] = df_test['subject'].map(lambda x: encode_subj_2_idx[x])"
   ]
  },
  {
   "cell_type": "code",
   "execution_count": 73,
   "metadata": {
    "id": "pm4t1P8Roe2f"
   },
   "outputs": [],
   "source": [
    "# unicamente conservar columnas de interes en ambos df\n",
    "df_train = df_train[[\"thesis\", \"indice_subject\"]]\n",
    "df_val = df_val[[\"thesis\", \"indice_subject\"]]\n",
    "#df_test = df_test[[\"thesis\", \"indice_subject\"]]"
   ]
  },
  {
   "cell_type": "code",
   "execution_count": 74,
   "metadata": {
    "colab": {
     "base_uri": "https://localhost:8080/",
     "height": 206
    },
    "id": "SHDsAUO7oe2f",
    "outputId": "f6e1efd2-9e31-4bcd-9dc1-3bf3a96809ae"
   },
   "outputs": [
    {
     "data": {
      "application/vnd.google.colaboratory.intrinsic+json": {
       "type": "dataframe",
       "variable_name": "df_train"
      },
      "text/html": [
       "\n",
       "  <div id=\"df-761cbbf0-99c5-4dbc-8f89-e1527046e157\" class=\"colab-df-container\">\n",
       "    <div>\n",
       "<style scoped>\n",
       "    .dataframe tbody tr th:only-of-type {\n",
       "        vertical-align: middle;\n",
       "    }\n",
       "\n",
       "    .dataframe tbody tr th {\n",
       "        vertical-align: top;\n",
       "    }\n",
       "\n",
       "    .dataframe thead th {\n",
       "        text-align: right;\n",
       "    }\n",
       "</style>\n",
       "<table border=\"1\" class=\"dataframe\">\n",
       "  <thead>\n",
       "    <tr style=\"text-align: right;\">\n",
       "      <th></th>\n",
       "      <th>thesis</th>\n",
       "      <th>indice_subject</th>\n",
       "    </tr>\n",
       "  </thead>\n",
       "  <tbody>\n",
       "    <tr>\n",
       "      <th>287537</th>\n",
       "      <td>Analyzing undergraduate admissions criteria (t...</td>\n",
       "      <td>58</td>\n",
       "    </tr>\n",
       "    <tr>\n",
       "      <th>123686</th>\n",
       "      <td>Aproximações markovianas e reamostragem para c...</td>\n",
       "      <td>44</td>\n",
       "    </tr>\n",
       "    <tr>\n",
       "      <th>288977</th>\n",
       "      <td>Imperfect information in spatial elections: An...</td>\n",
       "      <td>58</td>\n",
       "    </tr>\n",
       "    <tr>\n",
       "      <th>153883</th>\n",
       "      <td>A Refined Gross-Prasad Conjecture for Unitary ...</td>\n",
       "      <td>6</td>\n",
       "    </tr>\n",
       "    <tr>\n",
       "      <th>297075</th>\n",
       "      <td>Real-time Detection and Suppression of Malicio...</td>\n",
       "      <td>46</td>\n",
       "    </tr>\n",
       "  </tbody>\n",
       "</table>\n",
       "</div>\n",
       "    <div class=\"colab-df-buttons\">\n",
       "\n",
       "  <div class=\"colab-df-container\">\n",
       "    <button class=\"colab-df-convert\" onclick=\"convertToInteractive('df-761cbbf0-99c5-4dbc-8f89-e1527046e157')\"\n",
       "            title=\"Convert this dataframe to an interactive table.\"\n",
       "            style=\"display:none;\">\n",
       "\n",
       "  <svg xmlns=\"http://www.w3.org/2000/svg\" height=\"24px\" viewBox=\"0 -960 960 960\">\n",
       "    <path d=\"M120-120v-720h720v720H120Zm60-500h600v-160H180v160Zm220 220h160v-160H400v160Zm0 220h160v-160H400v160ZM180-400h160v-160H180v160Zm440 0h160v-160H620v160ZM180-180h160v-160H180v160Zm440 0h160v-160H620v160Z\"/>\n",
       "  </svg>\n",
       "    </button>\n",
       "\n",
       "  <style>\n",
       "    .colab-df-container {\n",
       "      display:flex;\n",
       "      gap: 12px;\n",
       "    }\n",
       "\n",
       "    .colab-df-convert {\n",
       "      background-color: #E8F0FE;\n",
       "      border: none;\n",
       "      border-radius: 50%;\n",
       "      cursor: pointer;\n",
       "      display: none;\n",
       "      fill: #1967D2;\n",
       "      height: 32px;\n",
       "      padding: 0 0 0 0;\n",
       "      width: 32px;\n",
       "    }\n",
       "\n",
       "    .colab-df-convert:hover {\n",
       "      background-color: #E2EBFA;\n",
       "      box-shadow: 0px 1px 2px rgba(60, 64, 67, 0.3), 0px 1px 3px 1px rgba(60, 64, 67, 0.15);\n",
       "      fill: #174EA6;\n",
       "    }\n",
       "\n",
       "    .colab-df-buttons div {\n",
       "      margin-bottom: 4px;\n",
       "    }\n",
       "\n",
       "    [theme=dark] .colab-df-convert {\n",
       "      background-color: #3B4455;\n",
       "      fill: #D2E3FC;\n",
       "    }\n",
       "\n",
       "    [theme=dark] .colab-df-convert:hover {\n",
       "      background-color: #434B5C;\n",
       "      box-shadow: 0px 1px 3px 1px rgba(0, 0, 0, 0.15);\n",
       "      filter: drop-shadow(0px 1px 2px rgba(0, 0, 0, 0.3));\n",
       "      fill: #FFFFFF;\n",
       "    }\n",
       "  </style>\n",
       "\n",
       "    <script>\n",
       "      const buttonEl =\n",
       "        document.querySelector('#df-761cbbf0-99c5-4dbc-8f89-e1527046e157 button.colab-df-convert');\n",
       "      buttonEl.style.display =\n",
       "        google.colab.kernel.accessAllowed ? 'block' : 'none';\n",
       "\n",
       "      async function convertToInteractive(key) {\n",
       "        const element = document.querySelector('#df-761cbbf0-99c5-4dbc-8f89-e1527046e157');\n",
       "        const dataTable =\n",
       "          await google.colab.kernel.invokeFunction('convertToInteractive',\n",
       "                                                    [key], {});\n",
       "        if (!dataTable) return;\n",
       "\n",
       "        const docLinkHtml = 'Like what you see? Visit the ' +\n",
       "          '<a target=\"_blank\" href=https://colab.research.google.com/notebooks/data_table.ipynb>data table notebook</a>'\n",
       "          + ' to learn more about interactive tables.';\n",
       "        element.innerHTML = '';\n",
       "        dataTable['output_type'] = 'display_data';\n",
       "        await google.colab.output.renderOutput(dataTable, element);\n",
       "        const docLink = document.createElement('div');\n",
       "        docLink.innerHTML = docLinkHtml;\n",
       "        element.appendChild(docLink);\n",
       "      }\n",
       "    </script>\n",
       "  </div>\n",
       "\n",
       "\n",
       "<div id=\"df-3f93cf54-f1eb-4eb7-a833-0dab47cbe0b6\">\n",
       "  <button class=\"colab-df-quickchart\" onclick=\"quickchart('df-3f93cf54-f1eb-4eb7-a833-0dab47cbe0b6')\"\n",
       "            title=\"Suggest charts\"\n",
       "            style=\"display:none;\">\n",
       "\n",
       "<svg xmlns=\"http://www.w3.org/2000/svg\" height=\"24px\"viewBox=\"0 0 24 24\"\n",
       "     width=\"24px\">\n",
       "    <g>\n",
       "        <path d=\"M19 3H5c-1.1 0-2 .9-2 2v14c0 1.1.9 2 2 2h14c1.1 0 2-.9 2-2V5c0-1.1-.9-2-2-2zM9 17H7v-7h2v7zm4 0h-2V7h2v10zm4 0h-2v-4h2v4z\"/>\n",
       "    </g>\n",
       "</svg>\n",
       "  </button>\n",
       "\n",
       "<style>\n",
       "  .colab-df-quickchart {\n",
       "      --bg-color: #E8F0FE;\n",
       "      --fill-color: #1967D2;\n",
       "      --hover-bg-color: #E2EBFA;\n",
       "      --hover-fill-color: #174EA6;\n",
       "      --disabled-fill-color: #AAA;\n",
       "      --disabled-bg-color: #DDD;\n",
       "  }\n",
       "\n",
       "  [theme=dark] .colab-df-quickchart {\n",
       "      --bg-color: #3B4455;\n",
       "      --fill-color: #D2E3FC;\n",
       "      --hover-bg-color: #434B5C;\n",
       "      --hover-fill-color: #FFFFFF;\n",
       "      --disabled-bg-color: #3B4455;\n",
       "      --disabled-fill-color: #666;\n",
       "  }\n",
       "\n",
       "  .colab-df-quickchart {\n",
       "    background-color: var(--bg-color);\n",
       "    border: none;\n",
       "    border-radius: 50%;\n",
       "    cursor: pointer;\n",
       "    display: none;\n",
       "    fill: var(--fill-color);\n",
       "    height: 32px;\n",
       "    padding: 0;\n",
       "    width: 32px;\n",
       "  }\n",
       "\n",
       "  .colab-df-quickchart:hover {\n",
       "    background-color: var(--hover-bg-color);\n",
       "    box-shadow: 0 1px 2px rgba(60, 64, 67, 0.3), 0 1px 3px 1px rgba(60, 64, 67, 0.15);\n",
       "    fill: var(--button-hover-fill-color);\n",
       "  }\n",
       "\n",
       "  .colab-df-quickchart-complete:disabled,\n",
       "  .colab-df-quickchart-complete:disabled:hover {\n",
       "    background-color: var(--disabled-bg-color);\n",
       "    fill: var(--disabled-fill-color);\n",
       "    box-shadow: none;\n",
       "  }\n",
       "\n",
       "  .colab-df-spinner {\n",
       "    border: 2px solid var(--fill-color);\n",
       "    border-color: transparent;\n",
       "    border-bottom-color: var(--fill-color);\n",
       "    animation:\n",
       "      spin 1s steps(1) infinite;\n",
       "  }\n",
       "\n",
       "  @keyframes spin {\n",
       "    0% {\n",
       "      border-color: transparent;\n",
       "      border-bottom-color: var(--fill-color);\n",
       "      border-left-color: var(--fill-color);\n",
       "    }\n",
       "    20% {\n",
       "      border-color: transparent;\n",
       "      border-left-color: var(--fill-color);\n",
       "      border-top-color: var(--fill-color);\n",
       "    }\n",
       "    30% {\n",
       "      border-color: transparent;\n",
       "      border-left-color: var(--fill-color);\n",
       "      border-top-color: var(--fill-color);\n",
       "      border-right-color: var(--fill-color);\n",
       "    }\n",
       "    40% {\n",
       "      border-color: transparent;\n",
       "      border-right-color: var(--fill-color);\n",
       "      border-top-color: var(--fill-color);\n",
       "    }\n",
       "    60% {\n",
       "      border-color: transparent;\n",
       "      border-right-color: var(--fill-color);\n",
       "    }\n",
       "    80% {\n",
       "      border-color: transparent;\n",
       "      border-right-color: var(--fill-color);\n",
       "      border-bottom-color: var(--fill-color);\n",
       "    }\n",
       "    90% {\n",
       "      border-color: transparent;\n",
       "      border-bottom-color: var(--fill-color);\n",
       "    }\n",
       "  }\n",
       "</style>\n",
       "\n",
       "  <script>\n",
       "    async function quickchart(key) {\n",
       "      const quickchartButtonEl =\n",
       "        document.querySelector('#' + key + ' button');\n",
       "      quickchartButtonEl.disabled = true;  // To prevent multiple clicks.\n",
       "      quickchartButtonEl.classList.add('colab-df-spinner');\n",
       "      try {\n",
       "        const charts = await google.colab.kernel.invokeFunction(\n",
       "            'suggestCharts', [key], {});\n",
       "      } catch (error) {\n",
       "        console.error('Error during call to suggestCharts:', error);\n",
       "      }\n",
       "      quickchartButtonEl.classList.remove('colab-df-spinner');\n",
       "      quickchartButtonEl.classList.add('colab-df-quickchart-complete');\n",
       "    }\n",
       "    (() => {\n",
       "      let quickchartButtonEl =\n",
       "        document.querySelector('#df-3f93cf54-f1eb-4eb7-a833-0dab47cbe0b6 button');\n",
       "      quickchartButtonEl.style.display =\n",
       "        google.colab.kernel.accessAllowed ? 'block' : 'none';\n",
       "    })();\n",
       "  </script>\n",
       "</div>\n",
       "\n",
       "    </div>\n",
       "  </div>\n"
      ],
      "text/plain": [
       "                                                   thesis  indice_subject\n",
       "287537  Analyzing undergraduate admissions criteria (t...              58\n",
       "123686  Aproximações markovianas e reamostragem para c...              44\n",
       "288977  Imperfect information in spatial elections: An...              58\n",
       "153883  A Refined Gross-Prasad Conjecture for Unitary ...               6\n",
       "297075  Real-time Detection and Suppression of Malicio...              46"
      ]
     },
     "execution_count": 74,
     "metadata": {},
     "output_type": "execute_result"
    }
   ],
   "source": [
    "df_train.head()"
   ]
  },
  {
   "cell_type": "markdown",
   "metadata": {
    "id": "YzEHaf0nv9rk"
   },
   "source": [
    "# Procesar los datasets"
   ]
  },
  {
   "cell_type": "code",
   "execution_count": 75,
   "metadata": {
    "colab": {
     "base_uri": "https://localhost:8080/"
    },
    "id": "uDPT_Fu0q7Ax",
    "outputId": "49c17dab-2a5b-42b7-ef81-b6c0aa62189d"
   },
   "outputs": [
    {
     "name": "stdout",
     "output_type": "stream",
     "text": [
      "Train data: 141345\n",
      "Val data:   15705\n"
     ]
    }
   ],
   "source": [
    "from datasets import Dataset\n",
    "\n",
    "\n",
    "# poner los datos en formato para ser usandos por un modelo de hugging face\n",
    "train_dataset_text = Dataset.from_pandas(df_train)\n",
    "val_dataset_text = Dataset.from_pandas(df_val)\n",
    "#test_dataset_text = Dataset.from_pandas(df_test)\n",
    "\n",
    "# renombrar las columnas de los datasets\n",
    "train_dataset_text = train_dataset_text.rename_columns({\"thesis\": \"text\", \"indice_subject\": \"label\"})\n",
    "val_dataset_text = val_dataset_text.rename_columns({\"thesis\": \"text\", \"indice_subject\": \"label\"})\n",
    "#test_dataset_text = test_dataset_text.rename_columns({\"thesis\": \"text\", \"indice_subject\": \"label\"})\n",
    "\n",
    "\n",
    "# ver el numero de datos en cada categoria\n",
    "print(f\"Train data: {train_dataset_text.num_rows}\")\n",
    "print(f\"Val data:   {val_dataset_text.num_rows}\")\n",
    "#print(f\"Test data:  {test_dataset_text.num_rows}\")"
   ]
  },
  {
   "cell_type": "code",
   "execution_count": 76,
   "metadata": {
    "colab": {
     "base_uri": "https://localhost:8080/"
    },
    "id": "JYGivbKPvY7i",
    "outputId": "e6af138a-82c5-427b-a089-3753d152b580"
   },
   "outputs": [
    {
     "name": "stdout",
     "output_type": "stream",
     "text": [
      "{'text': 'Three Essays in Matching Mechanism Design', 'label': 58, '__index_level_0__': 219382}\n",
      "{'text': 'Essays in East African Development', 'label': 58, '__index_level_0__': 237324}\n"
     ]
    }
   ],
   "source": [
    "# ver ejemplos\n",
    "print(train_dataset_text[51])\n",
    "print(val_dataset_text[10])"
   ]
  },
  {
   "cell_type": "code",
   "execution_count": 77,
   "metadata": {
    "colab": {
     "base_uri": "https://localhost:8080/"
    },
    "id": "aXUZTE7-vZIz",
    "outputId": "9ab121e0-fdb1-4bb8-885c-82e448285a03"
   },
   "outputs": [
    {
     "name": "stderr",
     "output_type": "stream",
     "text": [
      "/usr/local/lib/python3.10/dist-packages/transformers/tokenization_utils_base.py:1601: FutureWarning: `clean_up_tokenization_spaces` was not set. It will be set to `True` by default. This behavior will be depracted in transformers v4.45, and will be then set to `False` by default. For more details check this issue: https://github.com/huggingface/transformers/issues/31884\n",
      "  warnings.warn(\n"
     ]
    }
   ],
   "source": [
    "from transformers import BertTokenizer\n",
    "from transformers import DataCollatorWithPadding\n",
    "\n",
    "\n",
    "# inicializar el tokenizador\n",
    "tokenizer = BertTokenizer.from_pretrained(nombre_modelo_bert)\n",
    "\n",
    "# hacer el data collector con el tokenizador\n",
    "# este se va a usar para el entrenamiento\n",
    "data_collator = DataCollatorWithPadding(tokenizer=tokenizer)\n",
    "\n",
    "# funcion de procesamiento con truncation y padding\n",
    "def preprocess_function(examples):\n",
    "\n",
    "    # tomar el texto\n",
    "    texts = examples['text']\n",
    "\n",
    "    return tokenizer(texts, truncation=True, padding=True)"
   ]
  },
  {
   "cell_type": "code",
   "execution_count": 78,
   "metadata": {
    "colab": {
     "base_uri": "https://localhost:8080/"
    },
    "id": "mi1AUJ52zEjb",
    "outputId": "4d004b96-c669-4453-b724-65aacca7cd8c"
   },
   "outputs": [
    {
     "name": "stdout",
     "output_type": "stream",
     "text": [
      "{'text': ['Decay rates for the damped wave equation on the torus', 'Subsets of Groups Exhibiting Regularity in Differences'], 'label': [24, 3], '__index_level_0__': [265043, 257211]}\n",
      "{'input_ids': [[101, 81960, 31178, 10139, 10103, 12235, 18490, 21560, 43008, 10125, 10103, 87797, 10107, 102], [101, 13241, 14639, 10107, 10108, 15468, 57930, 10285, 15430, 12705, 10104, 30980, 102, 0]], 'token_type_ids': [[0, 0, 0, 0, 0, 0, 0, 0, 0, 0, 0, 0, 0, 0], [0, 0, 0, 0, 0, 0, 0, 0, 0, 0, 0, 0, 0, 0]], 'attention_mask': [[1, 1, 1, 1, 1, 1, 1, 1, 1, 1, 1, 1, 1, 1], [1, 1, 1, 1, 1, 1, 1, 1, 1, 1, 1, 1, 1, 0]]}\n"
     ]
    }
   ],
   "source": [
    "# ejemplo de la funcion de preprocesamiento\n",
    "textos = train_dataset_text[10:12]\n",
    "print(textos)\n",
    "\n",
    "# ver el resultado\n",
    "print(preprocess_function(textos))"
   ]
  },
  {
   "cell_type": "code",
   "execution_count": 79,
   "metadata": {
    "colab": {
     "base_uri": "https://localhost:8080/",
     "height": 81,
     "referenced_widgets": [
      "966ec1d87fcd44e6a432203e62a1056d",
      "db84574e67cd4e16bed405b7c6e1cd47",
      "209c32431a784aeb9d6af2f091623cba",
      "dd1b5f6ddc1147f4af802db65483feeb",
      "e0eb9896f4b04f19b9f0024ccc520737",
      "235e2393a8604823870b3c48485c260a",
      "d54f79fd8f774d9d924fa6896bd3e169",
      "2ab9856d331d451794d42e18020fb840",
      "cb9259c626a647a2a2dbb4d752d2ca3f",
      "7790aa590f1c4c8490cd8cd7f7ec4504",
      "10fa322f7411455da2fbd21dd3bb7776",
      "e4f9d408f3a54850b7d8e669564d1bae",
      "f546548aaf5a4ee990e630e3800df6f9",
      "33b13643507a4975bdbcc1ce6970bbb8",
      "bfc438a1cefd46d09741d859d9415c0b",
      "2102c75c8de243c68d8be1686bd0eed1",
      "0ab3a71c6a544a0fb55858b63f85aafd",
      "4627369f481f490b84bb1b41a036452d",
      "a9268d5d880e4da194a4d4c27660c23f",
      "7acca4478a6e4e678bf22f252f2f95fa",
      "c81a5381a1aa411aacb5bcb662f1625a",
      "bd9d7b602c924bdb926b1e9b12cf585f"
     ]
    },
    "id": "eBdYUFrxzeZx",
    "outputId": "f972e388-af38-45bc-a1a0-e8ee650b1d04"
   },
   "outputs": [
    {
     "data": {
      "application/vnd.jupyter.widget-view+json": {
       "model_id": "966ec1d87fcd44e6a432203e62a1056d",
       "version_major": 2,
       "version_minor": 0
      },
      "text/plain": [
       "Map:   0%|          | 0/141345 [00:00<?, ? examples/s]"
      ]
     },
     "metadata": {},
     "output_type": "display_data"
    },
    {
     "data": {
      "application/vnd.jupyter.widget-view+json": {
       "model_id": "e4f9d408f3a54850b7d8e669564d1bae",
       "version_major": 2,
       "version_minor": 0
      },
      "text/plain": [
       "Map:   0%|          | 0/15705 [00:00<?, ? examples/s]"
      ]
     },
     "metadata": {},
     "output_type": "display_data"
    }
   ],
   "source": [
    "# tokenizar los datasets\n",
    "train_dataset = train_dataset_text.map(preprocess_function, batched=True)\n",
    "val_dataset = val_dataset_text.map(preprocess_function, batched=True)\n",
    "#test_dataset = test_dataset_text.map(preprocess_function, batched=True)"
   ]
  },
  {
   "cell_type": "code",
   "execution_count": 80,
   "metadata": {
    "colab": {
     "base_uri": "https://localhost:8080/"
    },
    "id": "5vcGdtmU1hhq",
    "outputId": "bc5d7370-f76e-4890-e0bc-a4960e6dd7f6"
   },
   "outputs": [
    {
     "name": "stdout",
     "output_type": "stream",
     "text": [
      "Dataset({\n",
      "    features: ['text', 'label', '__index_level_0__', 'input_ids', 'token_type_ids', 'attention_mask'],\n",
      "    num_rows: 141345\n",
      "})\n",
      "Dataset({\n",
      "    features: ['text', 'label', '__index_level_0__', 'input_ids', 'token_type_ids', 'attention_mask'],\n",
      "    num_rows: 15705\n",
      "})\n"
     ]
    }
   ],
   "source": [
    "# ver datasets\n",
    "print(train_dataset)\n",
    "print(val_dataset)\n",
    "#print(test_dataset)"
   ]
  },
  {
   "cell_type": "markdown",
   "metadata": {
    "id": "VxSA0j3f1zZE"
   },
   "source": [
    "# Cargar el Bert"
   ]
  },
  {
   "cell_type": "code",
   "execution_count": 81,
   "metadata": {
    "colab": {
     "base_uri": "https://localhost:8080/"
    },
    "id": "piSd9X_q1qGh",
    "outputId": "21f70e35-a4a8-4c97-f462-c64a726501e0"
   },
   "outputs": [
    {
     "name": "stderr",
     "output_type": "stream",
     "text": [
      "Some weights of BertForSequenceClassification were not initialized from the model checkpoint at google-bert/bert-base-multilingual-uncased and are newly initialized: ['classifier.bias', 'classifier.weight']\n",
      "You should probably TRAIN this model on a down-stream task to be able to use it for predictions and inference.\n"
     ]
    }
   ],
   "source": [
    "from transformers import BertForSequenceClassification\n",
    "\n",
    "# cargar el modelo bert, se sabe el numero de labels que se tiene\n",
    "bert_model = BertForSequenceClassification.from_pretrained(nombre_modelo_bert,\n",
    "                                                           num_labels= num_clases,\n",
    "                                                           label2id = encode_subj_2_idx,\n",
    "                                                           id2label = decode_idx_2_subj)"
   ]
  },
  {
   "cell_type": "code",
   "execution_count": 82,
   "metadata": {
    "colab": {
     "base_uri": "https://localhost:8080/",
     "height": 87
    },
    "id": "KYwRNNqIR1Te",
    "outputId": "56fa179b-275f-447d-d465-32137a58f704"
   },
   "outputs": [
    {
     "data": {
      "application/vnd.google.colaboratory.intrinsic+json": {
       "type": "string"
      },
      "text/plain": [
       "'\\nPOR SI SE QUIERE USAR LORA\\nfrom peft import LoraConfig, PeftModelForSequenceClassification\\n\\n# hacer la configuracion del Lora para el fine tuning\\npeft_config = LoraConfig(\\n    task_type = \\'SEQ_CLS\\',\\n    r=16,\\n    lora_alpha=16,\\n    lora_dropout=0.1,\\n    bias=\"all\",\\n    modules_to_save= [\"classifier\"],  # entrenar el clasificador\\n    use_rslora = True,\\n)\\n\\n# hacer el modelo considerando lora\\nmodel = PeftModelForSequenceClassification(bert_model, peft_config)\\n\\n# ver\\nmodel.print_trainable_parameters()\\n'"
      ]
     },
     "execution_count": 82,
     "metadata": {},
     "output_type": "execute_result"
    }
   ],
   "source": [
    "'''\n",
    "POR SI SE QUIERE USAR LORA\n",
    "from peft import LoraConfig, PeftModelForSequenceClassification\n",
    "\n",
    "# hacer la configuracion del Lora para el fine tuning\n",
    "peft_config = LoraConfig(\n",
    "    task_type = 'SEQ_CLS',\n",
    "    r=16,\n",
    "    lora_alpha=16,\n",
    "    lora_dropout=0.1,\n",
    "    bias=\"all\",\n",
    "    modules_to_save= [\"classifier\"],  # entrenar el clasificador\n",
    "    use_rslora = True,\n",
    ")\n",
    "\n",
    "# hacer el modelo considerando lora\n",
    "model = PeftModelForSequenceClassification(bert_model, peft_config)\n",
    "\n",
    "# ver\n",
    "model.print_trainable_parameters()\n",
    "'''"
   ]
  },
  {
   "cell_type": "code",
   "execution_count": 83,
   "metadata": {
    "id": "YhXrcNOEoe2h"
   },
   "outputs": [],
   "source": [
    "# usar el bert model para el fine tuning\n",
    "model = bert_model"
   ]
  },
  {
   "cell_type": "code",
   "execution_count": 84,
   "metadata": {
    "colab": {
     "base_uri": "https://localhost:8080/"
    },
    "id": "MCFVxAydoe2i",
    "outputId": "43c64c58-51df-4178-bd34-32b74632c878"
   },
   "outputs": [
    {
     "data": {
      "text/plain": [
       "BertForSequenceClassification(\n",
       "  (bert): BertModel(\n",
       "    (embeddings): BertEmbeddings(\n",
       "      (word_embeddings): Embedding(105879, 768, padding_idx=0)\n",
       "      (position_embeddings): Embedding(512, 768)\n",
       "      (token_type_embeddings): Embedding(2, 768)\n",
       "      (LayerNorm): LayerNorm((768,), eps=1e-12, elementwise_affine=True)\n",
       "      (dropout): Dropout(p=0.1, inplace=False)\n",
       "    )\n",
       "    (encoder): BertEncoder(\n",
       "      (layer): ModuleList(\n",
       "        (0-11): 12 x BertLayer(\n",
       "          (attention): BertAttention(\n",
       "            (self): BertSdpaSelfAttention(\n",
       "              (query): Linear(in_features=768, out_features=768, bias=True)\n",
       "              (key): Linear(in_features=768, out_features=768, bias=True)\n",
       "              (value): Linear(in_features=768, out_features=768, bias=True)\n",
       "              (dropout): Dropout(p=0.1, inplace=False)\n",
       "            )\n",
       "            (output): BertSelfOutput(\n",
       "              (dense): Linear(in_features=768, out_features=768, bias=True)\n",
       "              (LayerNorm): LayerNorm((768,), eps=1e-12, elementwise_affine=True)\n",
       "              (dropout): Dropout(p=0.1, inplace=False)\n",
       "            )\n",
       "          )\n",
       "          (intermediate): BertIntermediate(\n",
       "            (dense): Linear(in_features=768, out_features=3072, bias=True)\n",
       "            (intermediate_act_fn): GELUActivation()\n",
       "          )\n",
       "          (output): BertOutput(\n",
       "            (dense): Linear(in_features=3072, out_features=768, bias=True)\n",
       "            (LayerNorm): LayerNorm((768,), eps=1e-12, elementwise_affine=True)\n",
       "            (dropout): Dropout(p=0.1, inplace=False)\n",
       "          )\n",
       "        )\n",
       "      )\n",
       "    )\n",
       "    (pooler): BertPooler(\n",
       "      (dense): Linear(in_features=768, out_features=768, bias=True)\n",
       "      (activation): Tanh()\n",
       "    )\n",
       "  )\n",
       "  (dropout): Dropout(p=0.1, inplace=False)\n",
       "  (classifier): Linear(in_features=768, out_features=63, bias=True)\n",
       ")"
      ]
     },
     "execution_count": 84,
     "metadata": {},
     "output_type": "execute_result"
    }
   ],
   "source": [
    "# mandar el modelo para correr en device\n",
    "model.to(device)"
   ]
  },
  {
   "cell_type": "markdown",
   "metadata": {
    "id": "lPMHRK-qt0X0"
   },
   "source": [
    "# Definir los parametros del entenamiento"
   ]
  },
  {
   "cell_type": "code",
   "execution_count": 85,
   "metadata": {
    "id": "UOd3qqN6t7tg"
   },
   "outputs": [],
   "source": [
    "from sklearn.metrics import f1_score\n",
    "\n",
    "# hacer la funcion que calcula metricas\n",
    "def compute_metrics(eval_pred):\n",
    "\n",
    "    # separa los logits y el label\n",
    "    logits, labels = eval_pred\n",
    "\n",
    "    # usando los logits toma la prediccion\n",
    "    predictions = np.argmax(logits, axis=-1)\n",
    "\n",
    "    # calcula f1 macro weighted y micro\n",
    "    f1_macro = f1_score(labels, predictions, average='macro')\n",
    "    f1_weighted = f1_score(labels, predictions, average='weighted')\n",
    "    f1_micro = f1_score(labels, predictions, average='micro')\n",
    "\n",
    "    # poner las estadisticas en un diccionario\n",
    "    dict_results = {\n",
    "        'f1_macro': f1_macro,\n",
    "        'f1_weighted': f1_weighted,\n",
    "        'f1_micro': f1_micro,\n",
    "    }\n",
    "\n",
    "    return dict_results"
   ]
  },
  {
   "cell_type": "code",
   "execution_count": 86,
   "metadata": {
    "id": "qdNVOlvcuCpV"
   },
   "outputs": [],
   "source": [
    "from transformers import TrainingArguments\n",
    "\n",
    "# delimitar hyperparametros para el entrenamiento\n",
    "training_args = TrainingArguments(\n",
    "    output_dir= model_output_dir,                    # output directory\n",
    "    save_steps = 500,                                 # save checkpoints every x steps\n",
    "    save_total_limit = 4,                            # save at most x checkpoints (keep the best)\n",
    "    load_best_model_at_end = True,                   # load the best model found during training at the end of training\n",
    "    metric_for_best_model = 'f1_macro',              # the best model according to this metric\n",
    "    greater_is_better = True,                        # greater f1 is better\n",
    "    num_train_epochs= NUM_EPOCHS,                    # total number of training epochs\n",
    "    per_device_train_batch_size= 16,                 # batch size per device during training\n",
    "    per_device_eval_batch_size= 64,                  # batch size for evaluation\n",
    "    #logging_dir = carpeta_info +  'logs\\\\',         # logging directory\n",
    "    logging_strategy = 'steps',                      # log every some number of steps\n",
    "    logging_first_step = True,                       # log in the first step\n",
    "    logging_steps = 500,                              # log every x steps, if smaller than 1, ratio of total training steps\n",
    "    eval_strategy='steps',                           # evaluate every some number of steps\n",
    "    # eval_steps= 10,                                # evaluate every x steps, Will default to the same value as logging_steps\n",
    "    learning_rate= LEARNING_RATE,                    # learning rate\n",
    "    weight_decay= WEIGHT_DECAY,                      # weight decay\n",
    "    adam_epsilon = ADAM_EPSILON,                     # epsilon hyperparameter for the AdamW optimizer\n",
    "    #use_cpu  = True,                                 # por desgracia, tengo que usar cpu (a veces)\n",
    ")"
   ]
  },
  {
   "cell_type": "code",
   "execution_count": 87,
   "metadata": {
    "id": "3eiyNE2Xwj6x"
   },
   "outputs": [],
   "source": [
    "import sklearn\n",
    "from torch import nn\n",
    "\n",
    "# Definir la funcion de perdida con pesos\n",
    "\n",
    "# tomar todas las etiquetas para entrenamiento en un array\n",
    "etiquetas_y = df_train['indice_subject'].values\n",
    "\n",
    "# obtnener le peso de cada clase\n",
    "# si se pasa None en class_weight entonces los pesos son uniformes\n",
    "pesos_clases = sklearn.utils.class_weight.compute_class_weight(class_weight= CLASS_WEIGHTS,\n",
    "                                                               classes= np.arange(bert_model.num_labels), # el numero de labels\n",
    "                                                               y= etiquetas_y)\n",
    "\n",
    "# convertir a tensor y mover al device\n",
    "pesos_clases = torch.tensor(pesos_clases, dtype=torch.float).to(device)\n",
    "\n",
    "# hacer la funcion de perdida con las pesos\n",
    "weighted_criterion = nn.CrossEntropyLoss(weight=pesos_clases)"
   ]
  },
  {
   "cell_type": "code",
   "execution_count": 88,
   "metadata": {
    "id": "jQ3dJcwiuEIh"
   },
   "outputs": [],
   "source": [
    "from transformers import Trainer\n",
    "\n",
    "# hacer un trainer propio para personalizar la funcion de perdida\n",
    "\n",
    "# Clase de trainer personalizado, heredar el Trainer\n",
    "class CustomTrainer(Trainer):\n",
    "\n",
    "  # constructor\n",
    "  def __init__(self, *args, **kwargs):\n",
    "    # poner los mismor argumentos que tendria un trainer normal\n",
    "    super().__init__(*args, **kwargs)\n",
    "\n",
    "  # personalizar la funcion de perdida\n",
    "  def compute_loss(self, model, inputs, return_outputs = False):\n",
    "\n",
    "    # mandar los inputs al device\n",
    "    inputs = {k: v.to(device) for k, v in inputs.items()}\n",
    "\n",
    "    # hacer forward en el modelo\n",
    "    outputs = model(**inputs)\n",
    "\n",
    "    # sacar los logits del output\n",
    "    logits = outputs.logits\n",
    "\n",
    "    # tomar las etiquietas correctas\n",
    "    labels = inputs.pop(\"labels\")\n",
    "\n",
    "    # calcular el loss\n",
    "    loss = weighted_criterion(logits, labels)\n",
    "\n",
    "    # devolver outputs solo si se quiere\n",
    "    return (loss, outputs) if return_outputs else loss"
   ]
  },
  {
   "cell_type": "code",
   "execution_count": 89,
   "metadata": {
    "id": "SsPa_mP6H5Ow"
   },
   "outputs": [],
   "source": [
    "# crear el trainer, usar mi trainer personalizado\n",
    "trainer = CustomTrainer(\n",
    "    model= model,\n",
    "    args= training_args,\n",
    "    train_dataset= train_dataset,\n",
    "    eval_dataset= val_dataset,\n",
    "    compute_metrics= compute_metrics, # funcion especificada por mi\n",
    "    data_collator= data_collator\n",
    ")"
   ]
  },
  {
   "cell_type": "markdown",
   "metadata": {
    "id": "sTy9bMJJgd4M"
   },
   "source": [
    "# Entrenar el modelo"
   ]
  },
  {
   "cell_type": "code",
   "execution_count": null,
   "metadata": {
    "colab": {
     "base_uri": "https://localhost:8080/",
     "height": 106
    },
    "id": "RGP1WOabJi0h",
    "outputId": "9c942de3-b3b4-42bc-bbe6-6830aecd7bb4"
   },
   "outputs": [
    {
     "data": {
      "text/html": [
       "\n",
       "    <div>\n",
       "      \n",
       "      <progress value='653' max='44175' style='width:300px; height:20px; vertical-align: middle;'></progress>\n",
       "      [  653/44175 04:44 < 5:17:07, 2.29 it/s, Epoch 0.07/5]\n",
       "    </div>\n",
       "    <table border=\"1\" class=\"dataframe\">\n",
       "  <thead>\n",
       " <tr style=\"text-align: left;\">\n",
       "      <th>Step</th>\n",
       "      <th>Training Loss</th>\n",
       "      <th>Validation Loss</th>\n",
       "      <th>F1 Macro</th>\n",
       "      <th>F1 Weighted</th>\n",
       "      <th>F1 Micro</th>\n",
       "    </tr>\n",
       "  </thead>\n",
       "  <tbody>\n",
       "    <tr>\n",
       "      <td>500</td>\n",
       "      <td>2.643700</td>\n",
       "      <td>2.150465</td>\n",
       "      <td>0.126965</td>\n",
       "      <td>0.395648</td>\n",
       "      <td>0.457498</td>\n",
       "    </tr>\n",
       "  </tbody>\n",
       "</table><p>"
      ],
      "text/plain": [
       "<IPython.core.display.HTML object>"
      ]
     },
     "metadata": {},
     "output_type": "display_data"
    }
   ],
   "source": [
    "# hacer el entrenamiento\n",
    "trainer.train()"
   ]
  },
  {
   "cell_type": "markdown",
   "metadata": {
    "id": "u3LyCR0FJvap"
   },
   "source": [
    "# Evaluar el modelo"
   ]
  },
  {
   "cell_type": "code",
   "execution_count": null,
   "metadata": {
    "id": "XwE8jC2YK2u1"
   },
   "outputs": [],
   "source": [
    "# evaluar en los datos de entrenamiento\n",
    "result_train = trainer.evaluate(eval_dataset= train_dataset)\n",
    "\n",
    "# imrpimir lo importante\n",
    "print(f\"F1 macro:    {result_train['eval_f1_macro']}\")\n",
    "print(f\"F1 weighted: {result_train['eval_f1_weighted']}\")\n",
    "print(f\"F1 micro:    {result_train['eval_f1_micro']}\")"
   ]
  },
  {
   "cell_type": "code",
   "execution_count": null,
   "metadata": {
    "id": "zMVJBeSJM5bK"
   },
   "outputs": [],
   "source": [
    "# evaluar en los datos de validacion\n",
    "result_val = trainer.evaluate(eval_dataset= val_dataset)\n",
    "\n",
    "# imrpimir lo importante\n",
    "print(f\"F1 macro:    {result_val['eval_f1_macro']}\")\n",
    "print(f\"F1 weighted: {result_val['eval_f1_weighted']}\")\n",
    "print(f\"F1 micro:    {result_val['eval_f1_micro']}\")"
   ]
  },
  {
   "cell_type": "code",
   "execution_count": null,
   "metadata": {
    "id": "U5iSCw5doe2j"
   },
   "outputs": [],
   "source": [
    "# funcion que toma textos y devuelve predicciones\n",
    "\n",
    "\n",
    "def predecir_de_textos(lista_textos):\n",
    "\n",
    "    # tokenizar los textos\n",
    "    inputs = tokenizer(list(lista_textos), truncation=True, padding=True, return_tensors=\"pt\")\n",
    "\n",
    "    # mandarlos al gpu\n",
    "    inputs.to(device)\n",
    "\n",
    "    # evaluar el modelo\n",
    "    with torch.no_grad():\n",
    "        outputs = model(**inputs)\n",
    "\n",
    "    # tomar las predicciones\n",
    "    predictions_indices = np.argmax(outputs.logits.cpu(), axis=-1)\n",
    "\n",
    "    # convertir a numpy\n",
    "    predictions_indices = predictions_indices.numpy()\n",
    "\n",
    "    # ver que subjects son estas predicciones\n",
    "    predictions = [model.config.id2label[idx] for idx in predictions_indices]\n",
    "\n",
    "    return predictions\n"
   ]
  },
  {
   "cell_type": "code",
   "execution_count": null,
   "metadata": {
    "id": "N1lW7y-kQxKd"
   },
   "outputs": [],
   "source": [
    "# probar el modelo en textos arbitrarios\n",
    "textos_ejemplos = np.array([\"An Alternative Definition of Stable Models Via Lukasiewicz Logic\",\n",
    "                            \"Energy of a graph and Randić index of subgraphs\",\n",
    "                            \"Analyzing Mexico City's Airbnb Reviews During COVID-19: A Computational Framework Utilizing BERT Embeddings\",\n",
    "                            \"A Probabilistic Model for Node Classification in Directed Graphs\"])\n",
    "\n",
    "predictions = predecir_de_textos(textos_ejemplos)\n",
    "print(predictions)"
   ]
  },
  {
   "cell_type": "markdown",
   "metadata": {
    "id": "cKy0Yw2SNSq4"
   },
   "source": [
    "# Salvar el modelo"
   ]
  },
  {
   "cell_type": "code",
   "execution_count": 18,
   "metadata": {},
   "outputs": [],
   "source": [
    "# Set the path to your local folder with the model\n",
    "model_path = \"./Models/BERT\"\n",
    "\n",
    "# Load the tokenizer and model from the local directory\n",
    "tokenizer = BertTokenizer.from_pretrained(model_path)\n",
    "model = BertForSequenceClassification.from_pretrained(model_path)"
   ]
  },
  {
   "cell_type": "code",
   "execution_count": null,
   "metadata": {
    "id": "Ud390yXloe2k"
   },
   "outputs": [],
   "source": [
    "from transformers import pipeline\n",
    "\n",
    "# cargar modelo y tokenizer\n",
    "loaded_model =  BertForSequenceClassification.from_pretrained(model_path)\n",
    "loaded_tokenizer = BertTokenizer.from_pretrained(model_path)\n",
    "\n",
    "# hacer pipeline\n",
    "pipeline_inferencia  = pipeline(\"text-classification\", model = loaded_model, tokenizer = loaded_tokenizer)\n",
    "\n",
    "# ejemlplos\n",
    "print(pipeline_inferencia(\"An Alternative Definition of Stable Models Via Lukasiewicz Logic\"))\n",
    "print(pipeline_inferencia(\"Energy of a graph and Randić index of subgraphs\"))\n",
    "print(pipeline_inferencia(\"Analyzing Mexico City's Airbnb Reviews During COVID-19: A Computational Framework Utilizing BERT Embeddings\"))\n",
    "print(pipeline_inferencia(\"A Probabilistic Model for Node Classification in Directed Graphs\"))"
   ]
  },
  {
   "cell_type": "markdown",
   "metadata": {
    "id": "wJcRrWdroe2k"
   },
   "source": [
    "## Hacer predicciones para todos los datos"
   ]
  },
  {
   "cell_type": "code",
   "execution_count": null,
   "metadata": {
    "id": "zehcjVW7oe2k"
   },
   "outputs": [],
   "source": [
    "# cargar el df con todas las tesis\n",
    "df_full = pd.read_csv(\"full_df.csv\", encoding='utf-8-sig', index_col=0, na_values=None, keep_default_na=False)\n",
    "print(f\"Hacer predicciones en {df_full.shape[0]} datos\")"
   ]
  },
  {
   "cell_type": "code",
   "execution_count": null,
   "metadata": {
    "id": "2JFBfTPVoe2k"
   },
   "outputs": [],
   "source": [
    "# procesar\n",
    "full_dataset_text = Dataset.from_pandas(df_full)\n",
    "\n",
    "# renombrar las columnas\n",
    "full_dataset_text = full_dataset_text.rename_columns({\"thesis\": \"text\"})\n",
    "\n",
    "# tokenizar el datasets\n",
    "full_dataset = full_dataset_text.map(preprocess_function, batched=True)"
   ]
  },
  {
   "cell_type": "code",
   "execution_count": null,
   "metadata": {
    "id": "fQmZfUVpoe2k",
    "scrolled": true
   },
   "outputs": [],
   "source": [
    "# hacer predicciones con el mejor modelo\n",
    "y_full = trainer.predict(full_dataset)"
   ]
  },
  {
   "cell_type": "code",
   "execution_count": null,
   "metadata": {
    "id": "p9Jwz0y1oe2k"
   },
   "outputs": [],
   "source": [
    "# tomar los labels predichos, no toma la probabilidad\n",
    "y_full_labels = np.argmax(y_full.predictions , axis=1)\n",
    "\n",
    "# ver que subjects son estas predicciones\n",
    "y_full_subjects =  [model.config.id2label[idx] for idx in y_full_labels]\n",
    "\n",
    "# agregar las predicciones al df\n",
    "df_full['prediction'] = y_full_subjects\n",
    "\n",
    "# ver\n",
    "df_full.head()"
   ]
  },
  {
   "cell_type": "code",
   "execution_count": null,
   "metadata": {
    "id": "8Eduhm5Uoe2l"
   },
   "outputs": [],
   "source": [
    "# poner las predicciones en un diccionario\n",
    "# con formato correcto\n",
    "predicciones_finales = {v: info_row['prediction']\n",
    "                       for v, info_row in df_full.iterrows()}\n",
    "\n",
    "# guardar estas predicciones\n",
    "with open(results_path + 'BERT.pkl', 'wb') as f:\n",
    "    pickle.dump(predicciones_finales, f)"
   ]
  },
  {
   "cell_type": "markdown",
   "metadata": {
    "id": "6DVbEcAJoe2l"
   },
   "source": [
    "## Actualizar reporte de hyperparametros"
   ]
  },
  {
   "cell_type": "code",
   "execution_count": null,
   "metadata": {
    "id": "UJxT6QWPoe2l"
   },
   "outputs": [],
   "source": [
    "def update_hyperparameters(metric):\n",
    "    '''\n",
    "    Al finalizar el entrenamiento\n",
    "    Guardar las metricas obtenidas para los hyperparametros usados\n",
    "    '''\n",
    "\n",
    "    # poner los hyperparametros junto con la metrica final obtenida\n",
    "    dict_info = {\n",
    "        \"LEARNING_RATE\" : LEARNING_RATE,\n",
    "        \"WEIGHT_DECAY\" : WEIGHT_DECAY,\n",
    "        \"ADAM_EPSILON\" : ADAM_EPSILON,\n",
    "        \"CLASS_WEIGHTS\" : str(CLASS_WEIGHTS),\n",
    "        \"NUM_EPOCHS\" : NUM_EPOCHS,\n",
    "        \"Val score\" : metric\n",
    "    }\n",
    "\n",
    "\n",
    "    # hacer un df con esta info\n",
    "    new_df = pd.DataFrame([dict_info])\n",
    "\n",
    "    # intenta cargar un archivo existente\n",
    "    try:\n",
    "\n",
    "        # leer\n",
    "        df = pd.read_csv(hyperparameters_file, na_values=None, keep_default_na=False)\n",
    "\n",
    "        # agregar nueva fila, con la info de esta inferencia\n",
    "        df = pd.concat([df, new_df], ignore_index=True)\n",
    "\n",
    "        # quitar repetidos\n",
    "        df = df.drop_duplicates()\n",
    "\n",
    "        # ordenar segun la metrica\n",
    "        df = df.sort_values(by=['Val score'], ascending=False)\n",
    "\n",
    "        # guardar el archivo modificado\n",
    "        df.to_csv(hyperparameters_file, index=False)\n",
    "\n",
    "    # si no se puede abrir, no existe\n",
    "    except FileNotFoundError:\n",
    "\n",
    "        # guardar solo la info de esta iteracion\n",
    "        new_df.to_csv(hyperparameters_file, index=False)"
   ]
  },
  {
   "cell_type": "code",
   "execution_count": null,
   "metadata": {
    "id": "AyTuYc--oe2l"
   },
   "outputs": [],
   "source": [
    "# actualizar el df, con el valor f1 macro en los datos de val\n",
    "update_hyperparameters(result_val['eval_f1_macro'])"
   ]
  }
 ],
 "metadata": {
  "accelerator": "GPU",
  "colab": {
   "collapsed_sections": [
    "VxSA0j3f1zZE"
   ],
   "gpuType": "T4",
   "provenance": []
  },
  "kernelspec": {
   "display_name": "mgp",
   "language": "python",
   "name": "mgp"
  },
  "language_info": {
   "codemirror_mode": {
    "name": "ipython",
    "version": 3
   },
   "file_extension": ".py",
   "mimetype": "text/x-python",
   "name": "python",
   "nbconvert_exporter": "python",
   "pygments_lexer": "ipython3",
   "version": "3.11.8"
  },
  "widgets": {
   "application/vnd.jupyter.widget-state+json": {
    "0ab3a71c6a544a0fb55858b63f85aafd": {
     "model_module": "@jupyter-widgets/base",
     "model_module_version": "1.2.0",
     "model_name": "LayoutModel",
     "state": {
      "_model_module": "@jupyter-widgets/base",
      "_model_module_version": "1.2.0",
      "_model_name": "LayoutModel",
      "_view_count": null,
      "_view_module": "@jupyter-widgets/base",
      "_view_module_version": "1.2.0",
      "_view_name": "LayoutView",
      "align_content": null,
      "align_items": null,
      "align_self": null,
      "border": null,
      "bottom": null,
      "display": null,
      "flex": null,
      "flex_flow": null,
      "grid_area": null,
      "grid_auto_columns": null,
      "grid_auto_flow": null,
      "grid_auto_rows": null,
      "grid_column": null,
      "grid_gap": null,
      "grid_row": null,
      "grid_template_areas": null,
      "grid_template_columns": null,
      "grid_template_rows": null,
      "height": null,
      "justify_content": null,
      "justify_items": null,
      "left": null,
      "margin": null,
      "max_height": null,
      "max_width": null,
      "min_height": null,
      "min_width": null,
      "object_fit": null,
      "object_position": null,
      "order": null,
      "overflow": null,
      "overflow_x": null,
      "overflow_y": null,
      "padding": null,
      "right": null,
      "top": null,
      "visibility": null,
      "width": null
     }
    },
    "10fa322f7411455da2fbd21dd3bb7776": {
     "model_module": "@jupyter-widgets/controls",
     "model_module_version": "1.5.0",
     "model_name": "DescriptionStyleModel",
     "state": {
      "_model_module": "@jupyter-widgets/controls",
      "_model_module_version": "1.5.0",
      "_model_name": "DescriptionStyleModel",
      "_view_count": null,
      "_view_module": "@jupyter-widgets/base",
      "_view_module_version": "1.2.0",
      "_view_name": "StyleView",
      "description_width": ""
     }
    },
    "209c32431a784aeb9d6af2f091623cba": {
     "model_module": "@jupyter-widgets/controls",
     "model_module_version": "1.5.0",
     "model_name": "FloatProgressModel",
     "state": {
      "_dom_classes": [],
      "_model_module": "@jupyter-widgets/controls",
      "_model_module_version": "1.5.0",
      "_model_name": "FloatProgressModel",
      "_view_count": null,
      "_view_module": "@jupyter-widgets/controls",
      "_view_module_version": "1.5.0",
      "_view_name": "ProgressView",
      "bar_style": "success",
      "description": "",
      "description_tooltip": null,
      "layout": "IPY_MODEL_2ab9856d331d451794d42e18020fb840",
      "max": 141345,
      "min": 0,
      "orientation": "horizontal",
      "style": "IPY_MODEL_cb9259c626a647a2a2dbb4d752d2ca3f",
      "value": 141345
     }
    },
    "2102c75c8de243c68d8be1686bd0eed1": {
     "model_module": "@jupyter-widgets/base",
     "model_module_version": "1.2.0",
     "model_name": "LayoutModel",
     "state": {
      "_model_module": "@jupyter-widgets/base",
      "_model_module_version": "1.2.0",
      "_model_name": "LayoutModel",
      "_view_count": null,
      "_view_module": "@jupyter-widgets/base",
      "_view_module_version": "1.2.0",
      "_view_name": "LayoutView",
      "align_content": null,
      "align_items": null,
      "align_self": null,
      "border": null,
      "bottom": null,
      "display": null,
      "flex": null,
      "flex_flow": null,
      "grid_area": null,
      "grid_auto_columns": null,
      "grid_auto_flow": null,
      "grid_auto_rows": null,
      "grid_column": null,
      "grid_gap": null,
      "grid_row": null,
      "grid_template_areas": null,
      "grid_template_columns": null,
      "grid_template_rows": null,
      "height": null,
      "justify_content": null,
      "justify_items": null,
      "left": null,
      "margin": null,
      "max_height": null,
      "max_width": null,
      "min_height": null,
      "min_width": null,
      "object_fit": null,
      "object_position": null,
      "order": null,
      "overflow": null,
      "overflow_x": null,
      "overflow_y": null,
      "padding": null,
      "right": null,
      "top": null,
      "visibility": null,
      "width": null
     }
    },
    "235e2393a8604823870b3c48485c260a": {
     "model_module": "@jupyter-widgets/base",
     "model_module_version": "1.2.0",
     "model_name": "LayoutModel",
     "state": {
      "_model_module": "@jupyter-widgets/base",
      "_model_module_version": "1.2.0",
      "_model_name": "LayoutModel",
      "_view_count": null,
      "_view_module": "@jupyter-widgets/base",
      "_view_module_version": "1.2.0",
      "_view_name": "LayoutView",
      "align_content": null,
      "align_items": null,
      "align_self": null,
      "border": null,
      "bottom": null,
      "display": null,
      "flex": null,
      "flex_flow": null,
      "grid_area": null,
      "grid_auto_columns": null,
      "grid_auto_flow": null,
      "grid_auto_rows": null,
      "grid_column": null,
      "grid_gap": null,
      "grid_row": null,
      "grid_template_areas": null,
      "grid_template_columns": null,
      "grid_template_rows": null,
      "height": null,
      "justify_content": null,
      "justify_items": null,
      "left": null,
      "margin": null,
      "max_height": null,
      "max_width": null,
      "min_height": null,
      "min_width": null,
      "object_fit": null,
      "object_position": null,
      "order": null,
      "overflow": null,
      "overflow_x": null,
      "overflow_y": null,
      "padding": null,
      "right": null,
      "top": null,
      "visibility": null,
      "width": null
     }
    },
    "2ab9856d331d451794d42e18020fb840": {
     "model_module": "@jupyter-widgets/base",
     "model_module_version": "1.2.0",
     "model_name": "LayoutModel",
     "state": {
      "_model_module": "@jupyter-widgets/base",
      "_model_module_version": "1.2.0",
      "_model_name": "LayoutModel",
      "_view_count": null,
      "_view_module": "@jupyter-widgets/base",
      "_view_module_version": "1.2.0",
      "_view_name": "LayoutView",
      "align_content": null,
      "align_items": null,
      "align_self": null,
      "border": null,
      "bottom": null,
      "display": null,
      "flex": null,
      "flex_flow": null,
      "grid_area": null,
      "grid_auto_columns": null,
      "grid_auto_flow": null,
      "grid_auto_rows": null,
      "grid_column": null,
      "grid_gap": null,
      "grid_row": null,
      "grid_template_areas": null,
      "grid_template_columns": null,
      "grid_template_rows": null,
      "height": null,
      "justify_content": null,
      "justify_items": null,
      "left": null,
      "margin": null,
      "max_height": null,
      "max_width": null,
      "min_height": null,
      "min_width": null,
      "object_fit": null,
      "object_position": null,
      "order": null,
      "overflow": null,
      "overflow_x": null,
      "overflow_y": null,
      "padding": null,
      "right": null,
      "top": null,
      "visibility": null,
      "width": null
     }
    },
    "33b13643507a4975bdbcc1ce6970bbb8": {
     "model_module": "@jupyter-widgets/controls",
     "model_module_version": "1.5.0",
     "model_name": "FloatProgressModel",
     "state": {
      "_dom_classes": [],
      "_model_module": "@jupyter-widgets/controls",
      "_model_module_version": "1.5.0",
      "_model_name": "FloatProgressModel",
      "_view_count": null,
      "_view_module": "@jupyter-widgets/controls",
      "_view_module_version": "1.5.0",
      "_view_name": "ProgressView",
      "bar_style": "success",
      "description": "",
      "description_tooltip": null,
      "layout": "IPY_MODEL_a9268d5d880e4da194a4d4c27660c23f",
      "max": 15705,
      "min": 0,
      "orientation": "horizontal",
      "style": "IPY_MODEL_7acca4478a6e4e678bf22f252f2f95fa",
      "value": 15705
     }
    },
    "4627369f481f490b84bb1b41a036452d": {
     "model_module": "@jupyter-widgets/controls",
     "model_module_version": "1.5.0",
     "model_name": "DescriptionStyleModel",
     "state": {
      "_model_module": "@jupyter-widgets/controls",
      "_model_module_version": "1.5.0",
      "_model_name": "DescriptionStyleModel",
      "_view_count": null,
      "_view_module": "@jupyter-widgets/base",
      "_view_module_version": "1.2.0",
      "_view_name": "StyleView",
      "description_width": ""
     }
    },
    "7790aa590f1c4c8490cd8cd7f7ec4504": {
     "model_module": "@jupyter-widgets/base",
     "model_module_version": "1.2.0",
     "model_name": "LayoutModel",
     "state": {
      "_model_module": "@jupyter-widgets/base",
      "_model_module_version": "1.2.0",
      "_model_name": "LayoutModel",
      "_view_count": null,
      "_view_module": "@jupyter-widgets/base",
      "_view_module_version": "1.2.0",
      "_view_name": "LayoutView",
      "align_content": null,
      "align_items": null,
      "align_self": null,
      "border": null,
      "bottom": null,
      "display": null,
      "flex": null,
      "flex_flow": null,
      "grid_area": null,
      "grid_auto_columns": null,
      "grid_auto_flow": null,
      "grid_auto_rows": null,
      "grid_column": null,
      "grid_gap": null,
      "grid_row": null,
      "grid_template_areas": null,
      "grid_template_columns": null,
      "grid_template_rows": null,
      "height": null,
      "justify_content": null,
      "justify_items": null,
      "left": null,
      "margin": null,
      "max_height": null,
      "max_width": null,
      "min_height": null,
      "min_width": null,
      "object_fit": null,
      "object_position": null,
      "order": null,
      "overflow": null,
      "overflow_x": null,
      "overflow_y": null,
      "padding": null,
      "right": null,
      "top": null,
      "visibility": null,
      "width": null
     }
    },
    "7acca4478a6e4e678bf22f252f2f95fa": {
     "model_module": "@jupyter-widgets/controls",
     "model_module_version": "1.5.0",
     "model_name": "ProgressStyleModel",
     "state": {
      "_model_module": "@jupyter-widgets/controls",
      "_model_module_version": "1.5.0",
      "_model_name": "ProgressStyleModel",
      "_view_count": null,
      "_view_module": "@jupyter-widgets/base",
      "_view_module_version": "1.2.0",
      "_view_name": "StyleView",
      "bar_color": null,
      "description_width": ""
     }
    },
    "966ec1d87fcd44e6a432203e62a1056d": {
     "model_module": "@jupyter-widgets/controls",
     "model_module_version": "1.5.0",
     "model_name": "HBoxModel",
     "state": {
      "_dom_classes": [],
      "_model_module": "@jupyter-widgets/controls",
      "_model_module_version": "1.5.0",
      "_model_name": "HBoxModel",
      "_view_count": null,
      "_view_module": "@jupyter-widgets/controls",
      "_view_module_version": "1.5.0",
      "_view_name": "HBoxView",
      "box_style": "",
      "children": [
       "IPY_MODEL_db84574e67cd4e16bed405b7c6e1cd47",
       "IPY_MODEL_209c32431a784aeb9d6af2f091623cba",
       "IPY_MODEL_dd1b5f6ddc1147f4af802db65483feeb"
      ],
      "layout": "IPY_MODEL_e0eb9896f4b04f19b9f0024ccc520737"
     }
    },
    "a9268d5d880e4da194a4d4c27660c23f": {
     "model_module": "@jupyter-widgets/base",
     "model_module_version": "1.2.0",
     "model_name": "LayoutModel",
     "state": {
      "_model_module": "@jupyter-widgets/base",
      "_model_module_version": "1.2.0",
      "_model_name": "LayoutModel",
      "_view_count": null,
      "_view_module": "@jupyter-widgets/base",
      "_view_module_version": "1.2.0",
      "_view_name": "LayoutView",
      "align_content": null,
      "align_items": null,
      "align_self": null,
      "border": null,
      "bottom": null,
      "display": null,
      "flex": null,
      "flex_flow": null,
      "grid_area": null,
      "grid_auto_columns": null,
      "grid_auto_flow": null,
      "grid_auto_rows": null,
      "grid_column": null,
      "grid_gap": null,
      "grid_row": null,
      "grid_template_areas": null,
      "grid_template_columns": null,
      "grid_template_rows": null,
      "height": null,
      "justify_content": null,
      "justify_items": null,
      "left": null,
      "margin": null,
      "max_height": null,
      "max_width": null,
      "min_height": null,
      "min_width": null,
      "object_fit": null,
      "object_position": null,
      "order": null,
      "overflow": null,
      "overflow_x": null,
      "overflow_y": null,
      "padding": null,
      "right": null,
      "top": null,
      "visibility": null,
      "width": null
     }
    },
    "bd9d7b602c924bdb926b1e9b12cf585f": {
     "model_module": "@jupyter-widgets/controls",
     "model_module_version": "1.5.0",
     "model_name": "DescriptionStyleModel",
     "state": {
      "_model_module": "@jupyter-widgets/controls",
      "_model_module_version": "1.5.0",
      "_model_name": "DescriptionStyleModel",
      "_view_count": null,
      "_view_module": "@jupyter-widgets/base",
      "_view_module_version": "1.2.0",
      "_view_name": "StyleView",
      "description_width": ""
     }
    },
    "bfc438a1cefd46d09741d859d9415c0b": {
     "model_module": "@jupyter-widgets/controls",
     "model_module_version": "1.5.0",
     "model_name": "HTMLModel",
     "state": {
      "_dom_classes": [],
      "_model_module": "@jupyter-widgets/controls",
      "_model_module_version": "1.5.0",
      "_model_name": "HTMLModel",
      "_view_count": null,
      "_view_module": "@jupyter-widgets/controls",
      "_view_module_version": "1.5.0",
      "_view_name": "HTMLView",
      "description": "",
      "description_tooltip": null,
      "layout": "IPY_MODEL_c81a5381a1aa411aacb5bcb662f1625a",
      "placeholder": "​",
      "style": "IPY_MODEL_bd9d7b602c924bdb926b1e9b12cf585f",
      "value": " 15705/15705 [00:05&lt;00:00, 2900.69 examples/s]"
     }
    },
    "c81a5381a1aa411aacb5bcb662f1625a": {
     "model_module": "@jupyter-widgets/base",
     "model_module_version": "1.2.0",
     "model_name": "LayoutModel",
     "state": {
      "_model_module": "@jupyter-widgets/base",
      "_model_module_version": "1.2.0",
      "_model_name": "LayoutModel",
      "_view_count": null,
      "_view_module": "@jupyter-widgets/base",
      "_view_module_version": "1.2.0",
      "_view_name": "LayoutView",
      "align_content": null,
      "align_items": null,
      "align_self": null,
      "border": null,
      "bottom": null,
      "display": null,
      "flex": null,
      "flex_flow": null,
      "grid_area": null,
      "grid_auto_columns": null,
      "grid_auto_flow": null,
      "grid_auto_rows": null,
      "grid_column": null,
      "grid_gap": null,
      "grid_row": null,
      "grid_template_areas": null,
      "grid_template_columns": null,
      "grid_template_rows": null,
      "height": null,
      "justify_content": null,
      "justify_items": null,
      "left": null,
      "margin": null,
      "max_height": null,
      "max_width": null,
      "min_height": null,
      "min_width": null,
      "object_fit": null,
      "object_position": null,
      "order": null,
      "overflow": null,
      "overflow_x": null,
      "overflow_y": null,
      "padding": null,
      "right": null,
      "top": null,
      "visibility": null,
      "width": null
     }
    },
    "cb9259c626a647a2a2dbb4d752d2ca3f": {
     "model_module": "@jupyter-widgets/controls",
     "model_module_version": "1.5.0",
     "model_name": "ProgressStyleModel",
     "state": {
      "_model_module": "@jupyter-widgets/controls",
      "_model_module_version": "1.5.0",
      "_model_name": "ProgressStyleModel",
      "_view_count": null,
      "_view_module": "@jupyter-widgets/base",
      "_view_module_version": "1.2.0",
      "_view_name": "StyleView",
      "bar_color": null,
      "description_width": ""
     }
    },
    "d54f79fd8f774d9d924fa6896bd3e169": {
     "model_module": "@jupyter-widgets/controls",
     "model_module_version": "1.5.0",
     "model_name": "DescriptionStyleModel",
     "state": {
      "_model_module": "@jupyter-widgets/controls",
      "_model_module_version": "1.5.0",
      "_model_name": "DescriptionStyleModel",
      "_view_count": null,
      "_view_module": "@jupyter-widgets/base",
      "_view_module_version": "1.2.0",
      "_view_name": "StyleView",
      "description_width": ""
     }
    },
    "db84574e67cd4e16bed405b7c6e1cd47": {
     "model_module": "@jupyter-widgets/controls",
     "model_module_version": "1.5.0",
     "model_name": "HTMLModel",
     "state": {
      "_dom_classes": [],
      "_model_module": "@jupyter-widgets/controls",
      "_model_module_version": "1.5.0",
      "_model_name": "HTMLModel",
      "_view_count": null,
      "_view_module": "@jupyter-widgets/controls",
      "_view_module_version": "1.5.0",
      "_view_name": "HTMLView",
      "description": "",
      "description_tooltip": null,
      "layout": "IPY_MODEL_235e2393a8604823870b3c48485c260a",
      "placeholder": "​",
      "style": "IPY_MODEL_d54f79fd8f774d9d924fa6896bd3e169",
      "value": "Map: 100%"
     }
    },
    "dd1b5f6ddc1147f4af802db65483feeb": {
     "model_module": "@jupyter-widgets/controls",
     "model_module_version": "1.5.0",
     "model_name": "HTMLModel",
     "state": {
      "_dom_classes": [],
      "_model_module": "@jupyter-widgets/controls",
      "_model_module_version": "1.5.0",
      "_model_name": "HTMLModel",
      "_view_count": null,
      "_view_module": "@jupyter-widgets/controls",
      "_view_module_version": "1.5.0",
      "_view_name": "HTMLView",
      "description": "",
      "description_tooltip": null,
      "layout": "IPY_MODEL_7790aa590f1c4c8490cd8cd7f7ec4504",
      "placeholder": "​",
      "style": "IPY_MODEL_10fa322f7411455da2fbd21dd3bb7776",
      "value": " 141345/141345 [01:12&lt;00:00, 2491.53 examples/s]"
     }
    },
    "e0eb9896f4b04f19b9f0024ccc520737": {
     "model_module": "@jupyter-widgets/base",
     "model_module_version": "1.2.0",
     "model_name": "LayoutModel",
     "state": {
      "_model_module": "@jupyter-widgets/base",
      "_model_module_version": "1.2.0",
      "_model_name": "LayoutModel",
      "_view_count": null,
      "_view_module": "@jupyter-widgets/base",
      "_view_module_version": "1.2.0",
      "_view_name": "LayoutView",
      "align_content": null,
      "align_items": null,
      "align_self": null,
      "border": null,
      "bottom": null,
      "display": null,
      "flex": null,
      "flex_flow": null,
      "grid_area": null,
      "grid_auto_columns": null,
      "grid_auto_flow": null,
      "grid_auto_rows": null,
      "grid_column": null,
      "grid_gap": null,
      "grid_row": null,
      "grid_template_areas": null,
      "grid_template_columns": null,
      "grid_template_rows": null,
      "height": null,
      "justify_content": null,
      "justify_items": null,
      "left": null,
      "margin": null,
      "max_height": null,
      "max_width": null,
      "min_height": null,
      "min_width": null,
      "object_fit": null,
      "object_position": null,
      "order": null,
      "overflow": null,
      "overflow_x": null,
      "overflow_y": null,
      "padding": null,
      "right": null,
      "top": null,
      "visibility": null,
      "width": null
     }
    },
    "e4f9d408f3a54850b7d8e669564d1bae": {
     "model_module": "@jupyter-widgets/controls",
     "model_module_version": "1.5.0",
     "model_name": "HBoxModel",
     "state": {
      "_dom_classes": [],
      "_model_module": "@jupyter-widgets/controls",
      "_model_module_version": "1.5.0",
      "_model_name": "HBoxModel",
      "_view_count": null,
      "_view_module": "@jupyter-widgets/controls",
      "_view_module_version": "1.5.0",
      "_view_name": "HBoxView",
      "box_style": "",
      "children": [
       "IPY_MODEL_f546548aaf5a4ee990e630e3800df6f9",
       "IPY_MODEL_33b13643507a4975bdbcc1ce6970bbb8",
       "IPY_MODEL_bfc438a1cefd46d09741d859d9415c0b"
      ],
      "layout": "IPY_MODEL_2102c75c8de243c68d8be1686bd0eed1"
     }
    },
    "f546548aaf5a4ee990e630e3800df6f9": {
     "model_module": "@jupyter-widgets/controls",
     "model_module_version": "1.5.0",
     "model_name": "HTMLModel",
     "state": {
      "_dom_classes": [],
      "_model_module": "@jupyter-widgets/controls",
      "_model_module_version": "1.5.0",
      "_model_name": "HTMLModel",
      "_view_count": null,
      "_view_module": "@jupyter-widgets/controls",
      "_view_module_version": "1.5.0",
      "_view_name": "HTMLView",
      "description": "",
      "description_tooltip": null,
      "layout": "IPY_MODEL_0ab3a71c6a544a0fb55858b63f85aafd",
      "placeholder": "​",
      "style": "IPY_MODEL_4627369f481f490b84bb1b41a036452d",
      "value": "Map: 100%"
     }
    }
   }
  }
 },
 "nbformat": 4,
 "nbformat_minor": 1
}
