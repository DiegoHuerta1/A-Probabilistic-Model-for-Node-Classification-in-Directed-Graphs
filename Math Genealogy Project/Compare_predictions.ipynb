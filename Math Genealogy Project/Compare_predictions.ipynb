{
 "cells": [
  {
   "cell_type": "markdown",
   "id": "8a207b23",
   "metadata": {},
   "source": [
    "Evaluate the predictions of all methods in the test set"
   ]
  },
  {
   "cell_type": "code",
   "execution_count": 1,
   "id": "c9db1dec",
   "metadata": {},
   "outputs": [],
   "source": [
    "import json\n",
    "import numpy as np\n",
    "import matplotlib.pyplot as plt\n",
    "import pickle\n",
    "import networkx as nx\n",
    "import nltk\n",
    "import pandas as pd\n",
    "import seaborn as sns\n",
    "from sklearn.metrics import f1_score"
   ]
  },
  {
   "cell_type": "code",
   "execution_count": 2,
   "id": "92b0fbe7",
   "metadata": {},
   "outputs": [],
   "source": [
    "# delimitar nombre y ubicacion del grafo a tomar para los subjects reales\n",
    "carpeta_datos =  '.\\\\Data\\\\nx_data\\\\'\n",
    "nombre_grafo = \"genealogy_nx_graph.json\""
   ]
  },
  {
   "cell_type": "code",
   "execution_count": 3,
   "id": "fab60838",
   "metadata": {},
   "outputs": [],
   "source": [
    "# delimitar el nombre de la carpeta donde se tienen las predicciones\n",
    "predictions_path = \".//Predictions//\"\n",
    "\n",
    "# delimitar el nombre del arhivo con la division de nodos\n",
    "file_division_nodos =  \"./Data/node_division.json\""
   ]
  },
  {
   "cell_type": "code",
   "execution_count": 4,
   "id": "df551287",
   "metadata": {},
   "outputs": [],
   "source": [
    "# para cada metodo delimitar el nombre del archivo de predicciones\n",
    "nombre_archivo_predicciones = {\n",
    "    \"Naive Bayes\" : \"Naive_Bayes.pkl\",\n",
    "    \"BERT\": 'BERT.pkl',\n",
    "    \"GCN\": 'GCN.pkl',\n",
    "    \"Label Propagation\": 'Label_Propagation.pkl',\n",
    "    \"Our_model_ML\": 'probabilistic_graph_model_ML.pkl',\n",
    "    \"Our_model_MAP\": 'probabilistic_graph_model_MAP.pkl'\n",
    "}"
   ]
  },
  {
   "cell_type": "code",
   "execution_count": 5,
   "id": "6c4b8e02",
   "metadata": {},
   "outputs": [
    {
     "name": "stdout",
     "output_type": "stream",
     "text": [
      "Se consideran los 6 metodos:\n",
      "['Naive Bayes', 'BERT', 'GCN', 'Label Propagation', 'Our_model_ML', 'Our_model_MAP']\n"
     ]
    }
   ],
   "source": [
    "# tomar los distintos metodos\n",
    "metodos = list(nombre_archivo_predicciones.keys())\n",
    "\n",
    "print(f\"Se consideran los {len(metodos)} metodos:\")\n",
    "print(metodos)"
   ]
  },
  {
   "cell_type": "markdown",
   "id": "687fd7cb",
   "metadata": {},
   "source": [
    "## Leer grafo con subjects reales"
   ]
  },
  {
   "cell_type": "code",
   "execution_count": 6,
   "id": "bdab4547",
   "metadata": {},
   "outputs": [
    {
     "name": "stdout",
     "output_type": "stream",
     "text": [
      "Se tienen 297377 matematicos\n"
     ]
    }
   ],
   "source": [
    "# leer el grafo\n",
    "with open(carpeta_datos + nombre_grafo, 'rb') as f:\n",
    "    grafo = pickle.load(f)\n",
    "    \n",
    "# responder preguntas basicas\n",
    "print(f\"Se tienen {grafo.number_of_nodes()} matematicos\")"
   ]
  },
  {
   "cell_type": "code",
   "execution_count": 7,
   "id": "4e916b91",
   "metadata": {},
   "outputs": [
    {
     "name": "stdout",
     "output_type": "stream",
     "text": [
      "Se tiene ground truth para 174501 matematicos\n"
     ]
    }
   ],
   "source": [
    "# poner los subjects para los matematicos para los que se sepa\n",
    "# esta es la ground truth\n",
    "dict_ground_truth = {id_matematico: info_matematico['subject']\n",
    "                     for id_matematico, info_matematico in grafo.nodes(data=True)\n",
    "                     if info_matematico['subject'] is not None\n",
    "                     and info_matematico['thesis'] is not None}\n",
    "\n",
    "print(f\"Se tiene ground truth para {len(dict_ground_truth)} matematicos\")"
   ]
  },
  {
   "cell_type": "markdown",
   "id": "a6a24fac",
   "metadata": {},
   "source": [
    "## Leer division de nodos"
   ]
  },
  {
   "cell_type": "code",
   "execution_count": 8,
   "id": "c7ba5962",
   "metadata": {},
   "outputs": [],
   "source": [
    "# division de nodos\n",
    "with open(file_division_nodos, 'rb') as f:\n",
    "    division_nodos = json.load(f)"
   ]
  },
  {
   "cell_type": "code",
   "execution_count": 9,
   "id": "6e9aa5ff",
   "metadata": {},
   "outputs": [],
   "source": [
    "# obtener distintos subconjuntos de ids\n",
    "ids_train = set(division_nodos['nodos_train'])\n",
    "ids_val = set(division_nodos['nodos_val'])\n",
    "ids_test = set(division_nodos['nodos_test'])\n",
    "\n",
    "# juntar estos conjuntos\n",
    "ids_train_val_test = ids_train | ids_val | ids_test"
   ]
  },
  {
   "cell_type": "code",
   "execution_count": 10,
   "id": "ae195b34",
   "metadata": {},
   "outputs": [
    {
     "name": "stdout",
     "output_type": "stream",
     "text": [
      "Train ids: 141345 nodos\n",
      "Val ids:   15705 nodos\n",
      "Test ids:  17451 nodos\n",
      "\n",
      "En total se tienen 174501 ids en train/val/test\n"
     ]
    }
   ],
   "source": [
    "# ver tamaños\n",
    "\n",
    "print(f\"Train ids: {len(ids_train)} nodos\")\n",
    "print(f\"Val ids:   {len(ids_val)} nodos\")\n",
    "print(f\"Test ids:  {len(ids_test)} nodos\")\n",
    "print(f\"\\nEn total se tienen {len(ids_train_val_test)} ids en train/val/test\")"
   ]
  },
  {
   "cell_type": "markdown",
   "id": "561c75fd",
   "metadata": {},
   "source": [
    "## Leer predicciones"
   ]
  },
  {
   "cell_type": "code",
   "execution_count": 11,
   "id": "58a38357",
   "metadata": {},
   "outputs": [],
   "source": [
    "# funcion para leer un archivo pickle\n",
    "def load_pickle_file(file_path):\n",
    "    with open(file_path, 'rb') as file:\n",
    "        data = pickle.load(file)\n",
    "    return data"
   ]
  },
  {
   "cell_type": "code",
   "execution_count": 12,
   "id": "2021d6b4",
   "metadata": {},
   "outputs": [],
   "source": [
    "# por cada metodo leer el diccionario de predicciones\n",
    "diccionarios_predicciones = {\n",
    "    metodo: load_pickle_file(predictions_path + nombre_predicciones)\n",
    "    for metodo, nombre_predicciones in nombre_archivo_predicciones.items()\n",
    "}"
   ]
  },
  {
   "cell_type": "markdown",
   "id": "631059e0",
   "metadata": {},
   "source": [
    "## Preparar comparaciones"
   ]
  },
  {
   "cell_type": "code",
   "execution_count": 13,
   "id": "bdde5ff0",
   "metadata": {},
   "outputs": [],
   "source": [
    "# calcular metricas\n",
    "def calcular_metricas(y_true, y_pred):\n",
    "    '''\n",
    "    Funcion auxuliar para calcular metricas de unas predicciones\n",
    "    '''\n",
    "    \n",
    "    f1_macro = f1_score(y_true, y_pred, average='macro')\n",
    "    f1_weighted = f1_score(y_true, y_pred, average='weighted')\n",
    "    f1_micro = f1_score(y_true, y_pred, average='micro')\n",
    "    \n",
    "    return {\"f1_macro\" :f1_macro, \"f1_weighted\" :f1_weighted, \"f1_micro\" :f1_micro}"
   ]
  },
  {
   "cell_type": "code",
   "execution_count": 14,
   "id": "3a20e6ec",
   "metadata": {},
   "outputs": [],
   "source": [
    "# comparar todos los metodoe en un conjunto de ids\n",
    "def comparar_predicciones_conjunto_ids(ids_interes):\n",
    "    '''\n",
    "    Argumentos:\n",
    "    ids_interes - conjunto de ids de matematicos\n",
    "    \n",
    "    Se hace una comparacion de las predicciones de los distintos metodos\n",
    "    en los matematicos con ids del conjunto de interes\n",
    "    '''\n",
    "    \n",
    "    print(f\"Prediccion en {len(ids_interes)} nodos\")\n",
    "    \n",
    "    # por cada metodo poner un array con las predicciones de interes\n",
    "    arrays_predicciones_interes = {\n",
    "        metodo: np.array([dict_predicciones_metodo[n] for n in ids_interes])\n",
    "        for metodo, dict_predicciones_metodo in diccionarios_predicciones.items()\n",
    "    }\n",
    "\n",
    "    # poner los verdaderos subjects de estos matematicos\n",
    "    array_ground_truth_interes = np.array([dict_ground_truth[n] for n in ids_interes])\n",
    "    \n",
    "    # por cada metodo calcular las estadisticas de sus predicciones\n",
    "    estadisticas_predicciones = {\n",
    "        metodo: calcular_metricas(array_ground_truth_interes,\n",
    "                                 array_predicciones_interes_metodo)\n",
    "        for metodo, array_predicciones_interes_metodo in arrays_predicciones_interes.items()\n",
    "    }\n",
    "    \n",
    "    # convertir en un df\n",
    "    df_estadisticas = pd.DataFrame.from_dict(estadisticas_predicciones, orient='index')\n",
    "    \n",
    "    # ordenar de acuerdo a f1\n",
    "    df_estadisticas = df_estadisticas.sort_values(\"f1_macro\", ascending = False)\n",
    "    \n",
    "    return df_estadisticas"
   ]
  },
  {
   "cell_type": "markdown",
   "id": "f32ccd78",
   "metadata": {},
   "source": [
    "# Hacer las comparaciones"
   ]
  },
  {
   "cell_type": "markdown",
   "id": "fa9981f0",
   "metadata": {},
   "source": [
    "### Train"
   ]
  },
  {
   "cell_type": "code",
   "execution_count": 15,
   "id": "6c751622",
   "metadata": {},
   "outputs": [
    {
     "name": "stdout",
     "output_type": "stream",
     "text": [
      "Prediccion en 141345 nodos\n"
     ]
    },
    {
     "data": {
      "text/html": [
       "<div>\n",
       "<style scoped>\n",
       "    .dataframe tbody tr th:only-of-type {\n",
       "        vertical-align: middle;\n",
       "    }\n",
       "\n",
       "    .dataframe tbody tr th {\n",
       "        vertical-align: top;\n",
       "    }\n",
       "\n",
       "    .dataframe thead th {\n",
       "        text-align: right;\n",
       "    }\n",
       "</style>\n",
       "<table border=\"1\" class=\"dataframe\">\n",
       "  <thead>\n",
       "    <tr style=\"text-align: right;\">\n",
       "      <th></th>\n",
       "      <th>f1_macro</th>\n",
       "      <th>f1_weighted</th>\n",
       "      <th>f1_micro</th>\n",
       "    </tr>\n",
       "  </thead>\n",
       "  <tbody>\n",
       "    <tr>\n",
       "      <th>Our_model_ML</th>\n",
       "      <td>1.0000</td>\n",
       "      <td>1.0000</td>\n",
       "      <td>1.0000</td>\n",
       "    </tr>\n",
       "    <tr>\n",
       "      <th>Our_model_MAP</th>\n",
       "      <td>1.0000</td>\n",
       "      <td>1.0000</td>\n",
       "      <td>1.0000</td>\n",
       "    </tr>\n",
       "    <tr>\n",
       "      <th>Naive Bayes</th>\n",
       "      <td>0.9680</td>\n",
       "      <td>0.9691</td>\n",
       "      <td>0.9690</td>\n",
       "    </tr>\n",
       "    <tr>\n",
       "      <th>BERT</th>\n",
       "      <td>0.8589</td>\n",
       "      <td>0.9302</td>\n",
       "      <td>0.9321</td>\n",
       "    </tr>\n",
       "    <tr>\n",
       "      <th>GCN</th>\n",
       "      <td>0.8225</td>\n",
       "      <td>0.9010</td>\n",
       "      <td>0.9023</td>\n",
       "    </tr>\n",
       "    <tr>\n",
       "      <th>Label Propagation</th>\n",
       "      <td>0.7853</td>\n",
       "      <td>0.8592</td>\n",
       "      <td>0.8595</td>\n",
       "    </tr>\n",
       "  </tbody>\n",
       "</table>\n",
       "</div>"
      ],
      "text/plain": [
       "                   f1_macro  f1_weighted  f1_micro\n",
       "Our_model_ML         1.0000       1.0000    1.0000\n",
       "Our_model_MAP        1.0000       1.0000    1.0000\n",
       "Naive Bayes          0.9680       0.9691    0.9690\n",
       "BERT                 0.8589       0.9302    0.9321\n",
       "GCN                  0.8225       0.9010    0.9023\n",
       "Label Propagation    0.7853       0.8592    0.8595"
      ]
     },
     "execution_count": 15,
     "metadata": {},
     "output_type": "execute_result"
    }
   ],
   "source": [
    "# todos los nodos en train\n",
    "df_stats_train = comparar_predicciones_conjunto_ids(ids_train)\n",
    "df_stats_train.round(4)"
   ]
  },
  {
   "cell_type": "markdown",
   "id": "13ad325d",
   "metadata": {},
   "source": [
    "### Val"
   ]
  },
  {
   "cell_type": "code",
   "execution_count": 16,
   "id": "8283f631",
   "metadata": {},
   "outputs": [
    {
     "name": "stdout",
     "output_type": "stream",
     "text": [
      "Prediccion en 15705 nodos\n"
     ]
    },
    {
     "data": {
      "text/html": [
       "<div>\n",
       "<style scoped>\n",
       "    .dataframe tbody tr th:only-of-type {\n",
       "        vertical-align: middle;\n",
       "    }\n",
       "\n",
       "    .dataframe tbody tr th {\n",
       "        vertical-align: top;\n",
       "    }\n",
       "\n",
       "    .dataframe thead th {\n",
       "        text-align: right;\n",
       "    }\n",
       "</style>\n",
       "<table border=\"1\" class=\"dataframe\">\n",
       "  <thead>\n",
       "    <tr style=\"text-align: right;\">\n",
       "      <th></th>\n",
       "      <th>f1_macro</th>\n",
       "      <th>f1_weighted</th>\n",
       "      <th>f1_micro</th>\n",
       "    </tr>\n",
       "  </thead>\n",
       "  <tbody>\n",
       "    <tr>\n",
       "      <th>GCN</th>\n",
       "      <td>0.5689</td>\n",
       "      <td>0.7471</td>\n",
       "      <td>0.7509</td>\n",
       "    </tr>\n",
       "    <tr>\n",
       "      <th>Our_model_ML</th>\n",
       "      <td>0.5485</td>\n",
       "      <td>0.7353</td>\n",
       "      <td>0.7336</td>\n",
       "    </tr>\n",
       "    <tr>\n",
       "      <th>Our_model_MAP</th>\n",
       "      <td>0.5350</td>\n",
       "      <td>0.7382</td>\n",
       "      <td>0.7475</td>\n",
       "    </tr>\n",
       "    <tr>\n",
       "      <th>BERT</th>\n",
       "      <td>0.5006</td>\n",
       "      <td>0.6643</td>\n",
       "      <td>0.6688</td>\n",
       "    </tr>\n",
       "    <tr>\n",
       "      <th>Label Propagation</th>\n",
       "      <td>0.4801</td>\n",
       "      <td>0.6768</td>\n",
       "      <td>0.6569</td>\n",
       "    </tr>\n",
       "    <tr>\n",
       "      <th>Naive Bayes</th>\n",
       "      <td>0.4556</td>\n",
       "      <td>0.6422</td>\n",
       "      <td>0.6446</td>\n",
       "    </tr>\n",
       "  </tbody>\n",
       "</table>\n",
       "</div>"
      ],
      "text/plain": [
       "                   f1_macro  f1_weighted  f1_micro\n",
       "GCN                  0.5689       0.7471    0.7509\n",
       "Our_model_ML         0.5485       0.7353    0.7336\n",
       "Our_model_MAP        0.5350       0.7382    0.7475\n",
       "BERT                 0.5006       0.6643    0.6688\n",
       "Label Propagation    0.4801       0.6768    0.6569\n",
       "Naive Bayes          0.4556       0.6422    0.6446"
      ]
     },
     "execution_count": 16,
     "metadata": {},
     "output_type": "execute_result"
    }
   ],
   "source": [
    "# en val todos los nodos\n",
    "df_stats_val = comparar_predicciones_conjunto_ids(ids_val)\n",
    "df_stats_val.round(4)"
   ]
  },
  {
   "cell_type": "markdown",
   "id": "25f7e246",
   "metadata": {},
   "source": [
    "### Test"
   ]
  },
  {
   "cell_type": "code",
   "execution_count": 17,
   "id": "1b4eee06",
   "metadata": {},
   "outputs": [
    {
     "name": "stdout",
     "output_type": "stream",
     "text": [
      "Prediccion en 17451 nodos\n"
     ]
    },
    {
     "data": {
      "text/html": [
       "<div>\n",
       "<style scoped>\n",
       "    .dataframe tbody tr th:only-of-type {\n",
       "        vertical-align: middle;\n",
       "    }\n",
       "\n",
       "    .dataframe tbody tr th {\n",
       "        vertical-align: top;\n",
       "    }\n",
       "\n",
       "    .dataframe thead th {\n",
       "        text-align: right;\n",
       "    }\n",
       "</style>\n",
       "<table border=\"1\" class=\"dataframe\">\n",
       "  <thead>\n",
       "    <tr style=\"text-align: right;\">\n",
       "      <th></th>\n",
       "      <th>f1_macro</th>\n",
       "      <th>f1_weighted</th>\n",
       "      <th>f1_micro</th>\n",
       "    </tr>\n",
       "  </thead>\n",
       "  <tbody>\n",
       "    <tr>\n",
       "      <th>Our_model_ML</th>\n",
       "      <td>0.5693</td>\n",
       "      <td>0.7378</td>\n",
       "      <td>0.7361</td>\n",
       "    </tr>\n",
       "    <tr>\n",
       "      <th>GCN</th>\n",
       "      <td>0.5689</td>\n",
       "      <td>0.7370</td>\n",
       "      <td>0.7405</td>\n",
       "    </tr>\n",
       "    <tr>\n",
       "      <th>Our_model_MAP</th>\n",
       "      <td>0.5493</td>\n",
       "      <td>0.7373</td>\n",
       "      <td>0.7463</td>\n",
       "    </tr>\n",
       "    <tr>\n",
       "      <th>BERT</th>\n",
       "      <td>0.5028</td>\n",
       "      <td>0.6647</td>\n",
       "      <td>0.6695</td>\n",
       "    </tr>\n",
       "    <tr>\n",
       "      <th>Label Propagation</th>\n",
       "      <td>0.4812</td>\n",
       "      <td>0.6745</td>\n",
       "      <td>0.6562</td>\n",
       "    </tr>\n",
       "    <tr>\n",
       "      <th>Naive Bayes</th>\n",
       "      <td>0.4726</td>\n",
       "      <td>0.6417</td>\n",
       "      <td>0.6436</td>\n",
       "    </tr>\n",
       "  </tbody>\n",
       "</table>\n",
       "</div>"
      ],
      "text/plain": [
       "                   f1_macro  f1_weighted  f1_micro\n",
       "Our_model_ML         0.5693       0.7378    0.7361\n",
       "GCN                  0.5689       0.7370    0.7405\n",
       "Our_model_MAP        0.5493       0.7373    0.7463\n",
       "BERT                 0.5028       0.6647    0.6695\n",
       "Label Propagation    0.4812       0.6745    0.6562\n",
       "Naive Bayes          0.4726       0.6417    0.6436"
      ]
     },
     "execution_count": 17,
     "metadata": {},
     "output_type": "execute_result"
    }
   ],
   "source": [
    "# en test todos los nodos\n",
    "df_stats_test = comparar_predicciones_conjunto_ids(ids_test)\n",
    "df_stats_test.round(4)"
   ]
  }
 ],
 "metadata": {
  "kernelspec": {
   "display_name": "mgp",
   "language": "python",
   "name": "mgp"
  },
  "language_info": {
   "codemirror_mode": {
    "name": "ipython",
    "version": 3
   },
   "file_extension": ".py",
   "mimetype": "text/x-python",
   "name": "python",
   "nbconvert_exporter": "python",
   "pygments_lexer": "ipython3",
   "version": "3.11.8"
  }
 },
 "nbformat": 4,
 "nbformat_minor": 5
}
